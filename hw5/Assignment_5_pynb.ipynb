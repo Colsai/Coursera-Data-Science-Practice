{
  "nbformat": 4,
  "nbformat_minor": 0,
  "metadata": {
    "colab": {
      "name": "Assignment 5.pynb",
      "provenance": [],
      "collapsed_sections": [],
      "toc_visible": true,
      "mount_file_id": "14u4QBWwI3LGKwDJsHwb94JWPiiOF3dDA",
      "authorship_tag": "ABX9TyOhe8Q3ivWMIfR9EtC/ik38",
      "include_colab_link": true
    },
    "kernelspec": {
      "name": "python3",
      "display_name": "Python 3"
    }
  },
  "cells": [
    {
      "cell_type": "markdown",
      "metadata": {
        "id": "view-in-github",
        "colab_type": "text"
      },
      "source": [
        "<a href=\"https://colab.research.google.com/github/Colsai/Coursera-Data-Science-Practice/blob/master/hw5/Assignment_5_pynb.ipynb\" target=\"_parent\"><img src=\"https://colab.research.google.com/assets/colab-badge.svg\" alt=\"Open In Colab\"/></a>"
      ]
    },
    {
      "cell_type": "markdown",
      "metadata": {
        "id": "XJgwTIiD56iD",
        "colab_type": "text"
      },
      "source": [
        "# ASSIGNMENT 05\n",
        "# DATA690 WANG\n",
        "\n",
        "---\n"
      ]
    },
    {
      "cell_type": "markdown",
      "metadata": {
        "id": "5itvIWEyEp3a",
        "colab_type": "text"
      },
      "source": [
        "**Note:** \n",
        "- Make sure your notebook file is well organized using Markdown and code comments.\n",
        "- Make sure you use Google Colab"
      ]
    },
    {
      "cell_type": "markdown",
      "metadata": {
        "id": "mCBJVPrTGFik",
        "colab_type": "text"
      },
      "source": [
        "## Part 1: Downloading Information, Etc.\n",
        "\n",
        "Note: You will be using Pandas for this assignment.\n",
        "1. Explore College Scorecard website - https://collegescorecard.ed.gov/ \n",
        "2. Explore College Scorecard Data web page - https://collegescorecard.ed.gov/data/\n",
        "3. Download and read the documentation - https://collegescorecard.ed.gov/assets/FullDataDocumentation.pdf\n",
        "4. Download the dataset - https://ed-public-download.app.cloud.gov/downloads/CollegeScorecard_Raw_Data.zip (265MB Zip File)\n",
        "5. Unzip the file into a folder in your personal computer (there are many files, one for each school year)\n"
      ]
    },
    {
      "cell_type": "code",
      "metadata": {
        "id": "Ikpg17jt5eSR",
        "colab_type": "code",
        "colab": {}
      },
      "source": [
        "#Import Packages First (Only Pandas Necessary, but I'll import Numpy too)\n",
        "import pandas as pd\n",
        "import numpy as np\n",
        "\n",
        "data= '/content/drive/My Drive/College Data/MERGED2018_19_PP.csv'\n",
        "df = pd.read_csv(data)"
      ],
      "execution_count": null,
      "outputs": []
    },
    {
      "cell_type": "code",
      "metadata": {
        "id": "WDYNSGBoOY7I",
        "colab_type": "code",
        "colab": {}
      },
      "source": [
        "df.info()"
      ],
      "execution_count": null,
      "outputs": []
    },
    {
      "cell_type": "markdown",
      "metadata": {
        "id": "Rxpu0cg0Desj",
        "colab_type": "text"
      },
      "source": [
        "---\n",
        "## Part 2. Using Head/ Tail/ Sample\n",
        "6. Upload the 2017-2018 school year file \"MERGED2017_18_PP.csv\" to Colab and create a Jupyter notebook to explore the dataset:   \n",
        "\n",
        "\n",
        "\n"
      ]
    },
    {
      "cell_type": "markdown",
      "metadata": {
        "id": "-tW1qQ9SGlEP",
        "colab_type": "text"
      },
      "source": [
        "- how many colleges or rows?   \n",
        "- how many variables or columns?    "
      ]
    },
    {
      "cell_type": "code",
      "metadata": {
        "id": "RCwOCD2YGw5e",
        "colab_type": "code",
        "colab": {}
      },
      "source": [
        "#Using len to show the length of the dataset. The header is counted\n",
        "\n",
        "print(f\"{len(df)} schools.\") "
      ],
      "execution_count": null,
      "outputs": []
    },
    {
      "cell_type": "code",
      "metadata": {
        "id": "Q0nAXBZoGjoe",
        "colab_type": "code",
        "colab": {}
      },
      "source": [
        "print(f\"{df.count()} variables\")"
      ],
      "execution_count": null,
      "outputs": []
    },
    {
      "cell_type": "markdown",
      "metadata": {
        "id": "oAsvXwxbGcTk",
        "colab_type": "text"
      },
      "source": [
        "- Look at the first 5 colleges   \n",
        "- look at the last 5 colleges\n",
        "- Look at a random sample of 5 colleges   "
      ]
    },
    {
      "cell_type": "code",
      "metadata": {
        "id": "URkDxe9aFP_N",
        "colab_type": "code",
        "colab": {}
      },
      "source": [
        "#Look at the first 5 schools\n",
        "df.head(5)"
      ],
      "execution_count": null,
      "outputs": []
    },
    {
      "cell_type": "code",
      "metadata": {
        "id": "9g2oE64AFiue",
        "colab_type": "code",
        "colab": {}
      },
      "source": [
        "#Look at the last 5 schools\n",
        "df.tail(5)"
      ],
      "execution_count": null,
      "outputs": []
    },
    {
      "cell_type": "code",
      "metadata": {
        "id": "0RT_8_n-FqXp",
        "colab_type": "code",
        "colab": {}
      },
      "source": [
        "#Random sample of 5 schools\n",
        "df.sample(5)"
      ],
      "execution_count": null,
      "outputs": []
    },
    {
      "cell_type": "code",
      "metadata": {
        "id": "IYYMnR7PDfpy",
        "colab_type": "code",
        "colab": {}
      },
      "source": [
        "df.dtypes"
      ],
      "execution_count": null,
      "outputs": []
    },
    {
      "cell_type": "markdown",
      "metadata": {
        "id": "2wkd4lmNre96",
        "colab_type": "text"
      },
      "source": [
        "--- \n",
        "## Part 3. Making a Smaller Data Frame"
      ]
    },
    {
      "cell_type": "markdown",
      "metadata": {
        "id": "AfbZfYW35gHh",
        "colab_type": "text"
      },
      "source": [
        "### 7. Since there are too many variables to explore, many of which are not interesting.   \n",
        "Create a smaller data frame with the following 9 variables:  "
      ]
    },
    {
      "cell_type": "code",
      "metadata": {
        "id": "FiagKUE3Ja1U",
        "colab_type": "code",
        "colab": {}
      },
      "source": [
        "smlr_df = df[['UNITID',\n",
        "             'INSTNM',\n",
        "             'CITY',\n",
        "             'STABBR',\n",
        "             'ZIP',\n",
        "             'ADM_RATE',\n",
        "             'UGDS',\n",
        "             'TUITIONFEE_IN',\n",
        "             'MN_EARN_WNE_P10']]"
      ],
      "execution_count": null,
      "outputs": []
    },
    {
      "cell_type": "markdown",
      "metadata": {
        "id": "oPP47swqgrQ2",
        "colab_type": "text"
      },
      "source": [
        "### 8. Download and read the data dictionary file - https://collegescorecard.ed.gov/assets/CollegeScorecardDataDictionary.xlsx\n"
      ]
    },
    {
      "cell_type": "markdown",
      "metadata": {
        "id": "hTjM2HTtgjk8",
        "colab_type": "text"
      },
      "source": [
        "### 9. Find out the definition of the above 9 variables and document the definitions in the Jupyter Notebook in a Markdown cell so that the readers of your notebook will know the meaning of these variables.  \n",
        "\n",
        "| Acronym | Definition |\n",
        "| ----------- | ----------- |  \n",
        "| INSTNM | Institution Name |\n",
        "| UNITID | Instiution ID |  \n",
        "| CITY | City where institution is found  \n",
        "| STABBR | State  \n",
        "| ZIP | Zip Code  \n",
        "| ADM_RATE | Admit Rate  \n",
        "| UGDS | Undergraduate   \n",
        "| TUITIONFEE_IN | Tuition Fee  \n",
        "| MN_EARN_WNE_P10 | Treasury AY  "
      ]
    },
    {
      "cell_type": "markdown",
      "metadata": {
        "id": "vdGX1ccH50Y0",
        "colab_type": "text"
      },
      "source": [
        "### 10. Explore the smaller data frame\n",
        "\n",
        "    - Look at the first 10 colleges   \n",
        "    - look at the last 10 colleges\n",
        "    - Look at a random sample of 10 colleges  \n",
        "    - Find and display UMBC \n",
        "    - Find Univ. of Maryland College Park\n",
        "    - Find and display Loyola College Maryland\n",
        "    - Find and display Johns Hopskins\n",
        "    - Calculate the min, max, and average in-state tution of the above four institutions."
      ]
    },
    {
      "cell_type": "code",
      "metadata": {
        "id": "fevCbUM7LleW",
        "colab_type": "code",
        "colab": {}
      },
      "source": [
        "# First 10 colleges in smaller df\n",
        "smlr_df.head(10)"
      ],
      "execution_count": null,
      "outputs": []
    },
    {
      "cell_type": "code",
      "metadata": {
        "id": "4gH-eqk5MTAs",
        "colab_type": "code",
        "colab": {}
      },
      "source": [
        "# Last 10 colleges in smaller df\n",
        "smlr_df.tail(10)"
      ],
      "execution_count": null,
      "outputs": []
    },
    {
      "cell_type": "code",
      "metadata": {
        "id": "Muu87-4wMVpT",
        "colab_type": "code",
        "colab": {}
      },
      "source": [
        "# Sample of 10 random colleges in smaller df\n",
        "smlr_df.sample(10)"
      ],
      "execution_count": null,
      "outputs": []
    },
    {
      "cell_type": "markdown",
      "metadata": {
        "id": "ypXqAgn4Mcw0",
        "colab_type": "text"
      },
      "source": [
        "### 10. Making a specific data frame\n",
        "- Find and display UMBC \n",
        "- Find Univ. of Maryland College Park\n",
        "- Find and display Loyola College Maryland\n",
        "- Find and display Johns Hopskins"
      ]
    },
    {
      "cell_type": "code",
      "metadata": {
        "id": "Nxazsv04Mk6r",
        "colab_type": "code",
        "colab": {}
      },
      "source": [
        "# Let's look for them quickly. We know the admit rate for them is low.\n",
        "# This should also help verify what name UMBC is. All the other names should be the same.\n",
        "\n",
        "mos_df = focused_df[focused_df[\"STABBR\"] == 'MD'].sort_values(by = 'ADM_RATE')[0:20]"
      ],
      "execution_count": null,
      "outputs": []
    },
    {
      "cell_type": "code",
      "metadata": {
        "id": "bW8UZV4aOst3",
        "colab_type": "code",
        "colab": {}
      },
      "source": [
        "#We found the names from above, so we can directly select them.\n",
        "md_names = ['University of Maryland-Baltimore County',\n",
        "            'Johns Hopkins University',\n",
        "            'University of Maryland-College Park',\n",
        "            'Loyola University Maryland']\n",
        "\n",
        "#Now we can just add them into the df\n",
        "md_names_df = smlr_df[smlr_df[\"INSTNM\"].isin(md_names)]\n",
        "\n",
        "md_names_df"
      ],
      "execution_count": null,
      "outputs": []
    },
    {
      "cell_type": "markdown",
      "metadata": {
        "id": "kWav--klm0Xj",
        "colab_type": "text"
      },
      "source": [
        "### 10b. Last Step\n",
        "- Calculate the min, max, and average in-state tution of the above four institutions.\n",
        "\n",
        "* min = .min\n",
        "* max = .max\n",
        "* average = .mean()"
      ]
    },
    {
      "cell_type": "code",
      "metadata": {
        "id": "eLGaCzxsj9rq",
        "colab_type": "code",
        "colab": {}
      },
      "source": [
        "# We have the data frame. Now we can do the next part.\n",
        "print(f\"${md_names_df['TUITIONFEE_IN'].min()} min\")\n",
        "print(f\"${md_names_df['TUITIONFEE_IN'].max()} max\")\n",
        "\n",
        "# Average\n",
        "method_1 = md_names_df['TUITIONFEE_IN'].sum() / len(md_names_df['TUITIONFEE_IN'])\n",
        "method_2 = md_names_df['TUITIONFEE_IN'].mean()\n",
        "\n",
        "print(f\"${method_1} average\")"
      ],
      "execution_count": null,
      "outputs": []
    },
    {
      "cell_type": "markdown",
      "metadata": {
        "id": "L-JIcfPGrsdT",
        "colab_type": "text"
      },
      "source": [
        "---\n",
        "## Part 4. Exporting the data\n",
        "Using data frame conditions and .to_csv"
      ]
    },
    {
      "cell_type": "markdown",
      "metadata": {
        "id": "1MDqhnIRgzEp",
        "colab_type": "text"
      },
      "source": [
        " \n",
        "### 11. Filter the smaller dataset further to only keep colleges from Maryland, Virgina, Washington DC, Delaware, and Pennsylvinia. \n",
        "\n",
        "Save the filtered dataset to a new file named \"Five_States_Colleges.csv\" for future analysis. Upload this file to your GitHub along with the notebook.\n",
        "\n",
        " *Don't try multiple conditions. Use isin*\n",
        "\n",
        "* df = df[df[category].isin[condition]\n",
        "* df.to_csv('filename.csv')"
      ]
    },
    {
      "cell_type": "code",
      "metadata": {
        "id": "Xh-oFx46f4E7",
        "colab_type": "code",
        "colab": {}
      },
      "source": [
        "#five states colleges\n",
        "five_states_colleges = smlr_df[smlr_df[\"STABBR\"].isin([\"MD\", \"VA\", \"DC\", \"PA\", \"DE\"])]\n",
        "\n",
        "five_states_colleges.to_csv('Five_States_Colleges.csv')"
      ],
      "execution_count": null,
      "outputs": []
    },
    {
      "cell_type": "code",
      "metadata": {
        "id": "_AF8POWDsoP6",
        "colab_type": "code",
        "colab": {}
      },
      "source": [
        "import seaborn as sns\n",
        "\n",
        "x=smlr_df['TUITIONFEE_IN']\n",
        "y=smlr_df['ADM_RATE']\n",
        "\n",
        "#Create a boxplot with seaborn 'sns' .boxplot,\n",
        "sns.boxplot(x,y, data=smlr_df)"
      ],
      "execution_count": null,
      "outputs": []
    },
    {
      "cell_type": "code",
      "metadata": {
        "id": "3QtcYzx-9E3i",
        "colab_type": "code",
        "colab": {}
      },
      "source": [
        "x=smlr_df['ADM_RATE']\n",
        "y=smlr_df['TUITIONFEE_IN']\n",
        "\n",
        "sns.regplot(x,y, data=smlr_df)"
      ],
      "execution_count": null,
      "outputs": []
    },
    {
      "cell_type": "code",
      "metadata": {
        "id": "nkJaO6RZ-z1W",
        "colab_type": "code",
        "colab": {}
      },
      "source": [
        "smlr_df.corr()['TUITIONFEE_IN'].sort_values(ascending=True)"
      ],
      "execution_count": null,
      "outputs": []
    }
  ]
}