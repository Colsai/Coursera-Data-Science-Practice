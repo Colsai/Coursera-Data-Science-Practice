{
  "nbformat": 4,
  "nbformat_minor": 0,
  "metadata": {
    "kernelspec": {
      "display_name": "Python 3",
      "language": "python",
      "name": "python3"
    },
    "language_info": {
      "codemirror_mode": {
        "name": "ipython",
        "version": 3
      },
      "file_extension": ".py",
      "mimetype": "text/x-python",
      "name": "python",
      "nbconvert_exporter": "python",
      "pygments_lexer": "ipython3",
      "version": "3.7.4"
    },
    "colab": {
      "name": "Assignment-08",
      "provenance": [],
      "collapsed_sections": [],
      "toc_visible": true,
      "include_colab_link": true
    }
  },
  "cells": [
    {
      "cell_type": "markdown",
      "metadata": {
        "id": "view-in-github",
        "colab_type": "text"
      },
      "source": [
        "<a href=\"https://colab.research.google.com/github/Colsai/Coursera-Data-Science-Practice/blob/master/hw12/Assignment_08.ipynb\" target=\"_parent\"><img src=\"https://colab.research.google.com/assets/colab-badge.svg\" alt=\"Open In Colab\"/></a>"
      ]
    },
    {
      "cell_type": "markdown",
      "metadata": {
        "id": "iX27tKn0eFkI"
      },
      "source": [
        "# ASSIGNMENT 8: DATA690 WANG\n",
        "## STATS AND VISUALIZATION (HIRABAYASHI)\n"
      ]
    },
    {
      "cell_type": "markdown",
      "metadata": {
        "id": "51G5p5pCSKpz"
      },
      "source": [
        "*Use this first to Mount Google Drive*"
      ]
    },
    {
      "cell_type": "code",
      "metadata": {
        "id": "2p-5lL3yXleI",
        "outputId": "5566952d-0e20-4b1c-e2ce-b1c033664bcd",
        "colab": {
          "base_uri": "https://localhost:8080/"
        }
      },
      "source": [
        "from google.colab import drive\n",
        "drive.mount('/content/drive')"
      ],
      "execution_count": 611,
      "outputs": [
        {
          "output_type": "stream",
          "text": [
            "Drive already mounted at /content/drive; to attempt to forcibly remount, call drive.mount(\"/content/drive\", force_remount=True).\n"
          ],
          "name": "stdout"
        }
      ]
    },
    {
      "cell_type": "markdown",
      "metadata": {
        "id": "-2fQAV7J6oI1"
      },
      "source": [
        "### Assignment 8\n",
        "For this assignment , we will use the college scorecard dataset. \n",
        "<pre>\n",
        "From the 22 individual school year data files, randomly (using Python) select one file. \n",
        "Only read the column \"TUITIONFEE_IN\" frm this file into a data frame.\n",
        "Find out how many observations this data frame has.\n",
        "Find out how many observations that have missing value. Drop those observations.\n",
        "Find out how many observations that have value of zero. Drop those observations.\n",
        "Calculate the mean of the tuition.\n",
        "Randomly select one observation, find out the tuition of that observation.\n",
        "Calculate the different between the tuition of this observation and the average tuition (mean) off all observations above.\n",
        "Randomly select another observation and repeat the above.\n",
        "Randomly select another observation and repeat the above.\n",
        "Randomly select 5 observations, display the tuition of these observation.\n",
        "Calculate the average of these 5 observations\n",
        "Calculate the different between the average tuition of thes 5 observations and the average tuition (mean) off all observations above.\n",
        "Randomly select another 5 observations and repeat the above.\n",
        "Randomly select another 5 observation and repeat the above.\n",
        "\n",
        "Randomly select 10 observations, display the tuition of these observation.\n",
        "Calculate the average of these 10 observations\n",
        "Calculate the different between the average tuition of thes 10 observations and the average tuition (mean) off all observations above.\n",
        "Randomly select another 10 observations and repeat the above.\n",
        "Randomly select another 10 observation and repeat the above.\n",
        "\n",
        "\n",
        "Randomly select 20 observations, display the tuition of these observation.\n",
        "Calculate the average of these 20 observations\n",
        "Calculate the different between the average tuition of thes 10 observations and the average tuition (mean) off all observations above.\n",
        "Randomly select another 20 observations and repeat the above.\n",
        "Randomly select another 20 observation and repeat the above.\n",
        "\n",
        "Randomly select 30 observations, display the tuition of these observation.\n",
        "Calculate the average of these 30 observations\n",
        "Calculate the different between the average tuition of thes 10 observations and the average tuition (mean) off all observations above.\n",
        "Randomly select another 30 observations and repeat the above.\n",
        "Randomly select another 30 observation and repeat the above.\n",
        "\n",
        "Write a function that take an input x (number of observations). \n",
        "The function will perform the following:\n",
        "\n",
        "Randomly select x observations, display the tuition of these observations.\n",
        "Calculate the average of these x observations\n",
        "Calculate the different between the average tuition of these x observations and the average tuition (mean) off all observations above.\n",
        "Display the difference.\n",
        "<pre>\n"
      ]
    },
    {
      "cell_type": "markdown",
      "metadata": {
        "id": "BK8MDXMVSWD-"
      },
      "source": [
        "## 1 - Import necessary libraries"
      ]
    },
    {
      "cell_type": "code",
      "metadata": {
        "id": "HpZckaJR6oI8"
      },
      "source": [
        "#Import pandas, random, matplotlib, etc.\n",
        "import pandas as pd\n",
        "import random\n",
        "import matplotlib.pyplot as plt\n",
        "import numpy as np\n",
        "import seaborn as sns\n",
        "import os"
      ],
      "execution_count": 612,
      "outputs": []
    },
    {
      "cell_type": "markdown",
      "metadata": {
        "id": "22OhXHzD0XEV"
      },
      "source": [
        "## 2 - Retrieve the names of the 22 files and assign them to a List variable"
      ]
    },
    {
      "cell_type": "code",
      "metadata": {
        "id": "6qafjqpb6oJC"
      },
      "source": [
        "# You would need to filter out other files\n",
        "# Display the names of these 22 files\n",
        "data_dir = '/content/drive/My Drive/College Data/'\n",
        "\n",
        "files = os.listdir(data_dir)\n",
        "merged_files = []\n",
        "\n",
        "for i in files:\n",
        "    if \"MERGED\" in i:\n",
        "        merged_files.append(i)"
      ],
      "execution_count": 613,
      "outputs": []
    },
    {
      "cell_type": "code",
      "metadata": {
        "id": "3IvAjYtkYqQv",
        "outputId": "594ccd65-34a7-4cb9-a932-6d21460a5c65",
        "colab": {
          "base_uri": "https://localhost:8080/"
        }
      },
      "source": [
        "#let's just check the length of the number of merged_files (is it around 22/23)\n",
        "len(merged_files)"
      ],
      "execution_count": 614,
      "outputs": [
        {
          "output_type": "execute_result",
          "data": {
            "text/plain": [
              "23"
            ]
          },
          "metadata": {
            "tags": []
          },
          "execution_count": 614
        }
      ]
    },
    {
      "cell_type": "markdown",
      "metadata": {
        "id": "47XfFRN7Sasv"
      },
      "source": [
        "## 3 - Write code to randomly select one file name out of the 22 files names. "
      ]
    },
    {
      "cell_type": "code",
      "metadata": {
        "id": "ft9Rn1lp6oJG",
        "outputId": "dd264c2d-72d6-4035-d123-188ab6dbddf3",
        "colab": {
          "base_uri": "https://localhost:8080/"
        }
      },
      "source": [
        "# Hint: generate a random integer between 0 and 21 first\n",
        "# Display the file name\n",
        "\n",
        "rand_num = random.randint(0, len(merged_files)-1)\n",
        "file_name = merged_files[rand_num]\n",
        "print(file_name)"
      ],
      "execution_count": 615,
      "outputs": [
        {
          "output_type": "stream",
          "text": [
            "MERGED2014_15_PP.csv\n"
          ],
          "name": "stdout"
        }
      ]
    },
    {
      "cell_type": "markdown",
      "metadata": {
        "id": "NKbKTDbPSdk1"
      },
      "source": [
        "## 4 - Only read the two columns: college name (INSTNM) and in state tution (\"TUITIONFEE_IN\")"
      ]
    },
    {
      "cell_type": "code",
      "metadata": {
        "id": "DJy1hmWM6oJN"
      },
      "source": [
        "# from this file into a data frame aand display use info() function to display a summary information\n",
        "\n",
        "df = pd.read_csv(data_dir + file_name, \n",
        "                          usecols = [\"INSTNM\", \"TUITIONFEE_IN\"])"
      ],
      "execution_count": 616,
      "outputs": []
    },
    {
      "cell_type": "code",
      "metadata": {
        "id": "eRCEJPWLXdOV",
        "outputId": "95cc10d1-b98c-4c32-de77-5427b7d4355b",
        "colab": {
          "base_uri": "https://localhost:8080/"
        }
      },
      "source": [
        "#Look at the info for the dataframe\n",
        "df.info()"
      ],
      "execution_count": 617,
      "outputs": [
        {
          "output_type": "stream",
          "text": [
            "<class 'pandas.core.frame.DataFrame'>\n",
            "RangeIndex: 7766 entries, 0 to 7765\n",
            "Data columns (total 2 columns):\n",
            " #   Column         Non-Null Count  Dtype  \n",
            "---  ------         --------------  -----  \n",
            " 0   INSTNM         7766 non-null   object \n",
            " 1   TUITIONFEE_IN  4407 non-null   float64\n",
            "dtypes: float64(1), object(1)\n",
            "memory usage: 121.5+ KB\n"
          ],
          "name": "stdout"
        }
      ]
    },
    {
      "cell_type": "markdown",
      "metadata": {
        "id": "cIJSZYO7Sj-_"
      },
      "source": [
        "## 5 - Find out how many observations have missing value."
      ]
    },
    {
      "cell_type": "code",
      "metadata": {
        "id": "wU5Ozu106oJR",
        "outputId": "b434b464-aea2-4439-c05e-a880ec70a2c0",
        "colab": {
          "base_uri": "https://localhost:8080/"
        }
      },
      "source": [
        "#Look for null values\n",
        "df.isnull().count() #Or we can use .sum()"
      ],
      "execution_count": 618,
      "outputs": [
        {
          "output_type": "execute_result",
          "data": {
            "text/plain": [
              "INSTNM           7766\n",
              "TUITIONFEE_IN    7766\n",
              "dtype: int64"
            ]
          },
          "metadata": {
            "tags": []
          },
          "execution_count": 618
        }
      ]
    },
    {
      "cell_type": "code",
      "metadata": {
        "id": "buoeo75MfdWa",
        "outputId": "a3486c49-0dc5-40fa-aeab-1aa91e6b743e",
        "colab": {
          "base_uri": "https://localhost:8080/",
          "height": 204
        }
      },
      "source": [
        "#Head of the data\n",
        "df.head()"
      ],
      "execution_count": 619,
      "outputs": [
        {
          "output_type": "execute_result",
          "data": {
            "text/html": [
              "<div>\n",
              "<style scoped>\n",
              "    .dataframe tbody tr th:only-of-type {\n",
              "        vertical-align: middle;\n",
              "    }\n",
              "\n",
              "    .dataframe tbody tr th {\n",
              "        vertical-align: top;\n",
              "    }\n",
              "\n",
              "    .dataframe thead th {\n",
              "        text-align: right;\n",
              "    }\n",
              "</style>\n",
              "<table border=\"1\" class=\"dataframe\">\n",
              "  <thead>\n",
              "    <tr style=\"text-align: right;\">\n",
              "      <th></th>\n",
              "      <th>INSTNM</th>\n",
              "      <th>TUITIONFEE_IN</th>\n",
              "    </tr>\n",
              "  </thead>\n",
              "  <tbody>\n",
              "    <tr>\n",
              "      <th>0</th>\n",
              "      <td>Alabama A &amp; M University</td>\n",
              "      <td>9096.0</td>\n",
              "    </tr>\n",
              "    <tr>\n",
              "      <th>1</th>\n",
              "      <td>University of Alabama at Birmingham</td>\n",
              "      <td>7510.0</td>\n",
              "    </tr>\n",
              "    <tr>\n",
              "      <th>2</th>\n",
              "      <td>Amridge University</td>\n",
              "      <td>6900.0</td>\n",
              "    </tr>\n",
              "    <tr>\n",
              "      <th>3</th>\n",
              "      <td>University of Alabama in Huntsville</td>\n",
              "      <td>9158.0</td>\n",
              "    </tr>\n",
              "    <tr>\n",
              "      <th>4</th>\n",
              "      <td>Alabama State University</td>\n",
              "      <td>8720.0</td>\n",
              "    </tr>\n",
              "  </tbody>\n",
              "</table>\n",
              "</div>"
            ],
            "text/plain": [
              "                                INSTNM  TUITIONFEE_IN\n",
              "0             Alabama A & M University         9096.0\n",
              "1  University of Alabama at Birmingham         7510.0\n",
              "2                   Amridge University         6900.0\n",
              "3  University of Alabama in Huntsville         9158.0\n",
              "4             Alabama State University         8720.0"
            ]
          },
          "metadata": {
            "tags": []
          },
          "execution_count": 619
        }
      ]
    },
    {
      "cell_type": "code",
      "metadata": {
        "id": "0IWU_X40TiAS",
        "outputId": "e15b669a-3a46-4cd0-8a22-a45ad011e82b",
        "colab": {
          "base_uri": "https://localhost:8080/"
        }
      },
      "source": [
        "#Shape of the dataframe\n",
        "df.shape"
      ],
      "execution_count": 620,
      "outputs": [
        {
          "output_type": "execute_result",
          "data": {
            "text/plain": [
              "(7766, 2)"
            ]
          },
          "metadata": {
            "tags": []
          },
          "execution_count": 620
        }
      ]
    },
    {
      "cell_type": "markdown",
      "metadata": {
        "id": "QUfMCtHS0jFM"
      },
      "source": [
        "## 6 - Drop those observations with missing value"
      ]
    },
    {
      "cell_type": "code",
      "metadata": {
        "id": "V0MTbBwv6oJW"
      },
      "source": [
        "#Look for all of the data that is NaN\n",
        "clean_df = df.dropna(axis = 0, how ='any') "
      ],
      "execution_count": 621,
      "outputs": []
    },
    {
      "cell_type": "code",
      "metadata": {
        "id": "8VIbwEOIXrZD",
        "outputId": "0c7d7098-a843-4f5c-f643-07632a5bb3c1",
        "colab": {
          "base_uri": "https://localhost:8080/"
        }
      },
      "source": [
        "# Display the number of observations afterward\n",
        "len(clean_df)"
      ],
      "execution_count": 622,
      "outputs": [
        {
          "output_type": "execute_result",
          "data": {
            "text/plain": [
              "4407"
            ]
          },
          "metadata": {
            "tags": []
          },
          "execution_count": 622
        }
      ]
    },
    {
      "cell_type": "code",
      "metadata": {
        "id": "40mi9j-XfSAw",
        "outputId": "3d791f2a-e0bb-44b8-f491-c7279be95775",
        "colab": {
          "base_uri": "https://localhost:8080/"
        }
      },
      "source": [
        "#How many observations did we drop?\n",
        "len(df) - len(clean_df)"
      ],
      "execution_count": 623,
      "outputs": [
        {
          "output_type": "execute_result",
          "data": {
            "text/plain": [
              "3359"
            ]
          },
          "metadata": {
            "tags": []
          },
          "execution_count": 623
        }
      ]
    },
    {
      "cell_type": "markdown",
      "metadata": {
        "id": "T8WslIDrsSP_"
      },
      "source": [
        "## 7 - Find out how many observations have 0 tuition: Let's just take a look by sorting"
      ]
    },
    {
      "cell_type": "code",
      "metadata": {
        "id": "A-pfpASe6oJb",
        "outputId": "77045969-6eff-4ea6-b67e-2433175456ee",
        "colab": {
          "base_uri": "https://localhost:8080/",
          "height": 419
        }
      },
      "source": [
        "#Sort the data to look at some values that are 0\n",
        "clean_df.sort_values(by=\"TUITIONFEE_IN\", ascending=True)"
      ],
      "execution_count": 624,
      "outputs": [
        {
          "output_type": "execute_result",
          "data": {
            "text/html": [
              "<div>\n",
              "<style scoped>\n",
              "    .dataframe tbody tr th:only-of-type {\n",
              "        vertical-align: middle;\n",
              "    }\n",
              "\n",
              "    .dataframe tbody tr th {\n",
              "        vertical-align: top;\n",
              "    }\n",
              "\n",
              "    .dataframe thead th {\n",
              "        text-align: right;\n",
              "    }\n",
              "</style>\n",
              "<table border=\"1\" class=\"dataframe\">\n",
              "  <thead>\n",
              "    <tr style=\"text-align: right;\">\n",
              "      <th></th>\n",
              "      <th>INSTNM</th>\n",
              "      <th>TUITIONFEE_IN</th>\n",
              "    </tr>\n",
              "  </thead>\n",
              "  <tbody>\n",
              "    <tr>\n",
              "      <th>7431</th>\n",
              "      <td>Lincoln College of New England-Hartford</td>\n",
              "      <td>0.0</td>\n",
              "    </tr>\n",
              "    <tr>\n",
              "      <th>1365</th>\n",
              "      <td>Haskell Indian Nations University</td>\n",
              "      <td>580.0</td>\n",
              "    </tr>\n",
              "    <tr>\n",
              "      <th>107</th>\n",
              "      <td>Dine College</td>\n",
              "      <td>725.0</td>\n",
              "    </tr>\n",
              "    <tr>\n",
              "      <th>4436</th>\n",
              "      <td>Luna Community College</td>\n",
              "      <td>886.0</td>\n",
              "    </tr>\n",
              "    <tr>\n",
              "      <th>689</th>\n",
              "      <td>United States Coast Guard Academy</td>\n",
              "      <td>942.0</td>\n",
              "    </tr>\n",
              "    <tr>\n",
              "      <th>...</th>\n",
              "      <td>...</td>\n",
              "      <td>...</td>\n",
              "    </tr>\n",
              "    <tr>\n",
              "      <th>2662</th>\n",
              "      <td>Vassar College</td>\n",
              "      <td>49570.0</td>\n",
              "    </tr>\n",
              "    <tr>\n",
              "      <th>4349</th>\n",
              "      <td>Landmark College</td>\n",
              "      <td>50080.0</td>\n",
              "    </tr>\n",
              "    <tr>\n",
              "      <th>2597</th>\n",
              "      <td>Sarah Lawrence College</td>\n",
              "      <td>50780.0</td>\n",
              "    </tr>\n",
              "    <tr>\n",
              "      <th>2427</th>\n",
              "      <td>Columbia University in the City of New York</td>\n",
              "      <td>51008.0</td>\n",
              "    </tr>\n",
              "    <tr>\n",
              "      <th>5832</th>\n",
              "      <td>Aviator College of Aeronautical Science and Te...</td>\n",
              "      <td>74787.0</td>\n",
              "    </tr>\n",
              "  </tbody>\n",
              "</table>\n",
              "<p>4407 rows × 2 columns</p>\n",
              "</div>"
            ],
            "text/plain": [
              "                                                 INSTNM  TUITIONFEE_IN\n",
              "7431            Lincoln College of New England-Hartford            0.0\n",
              "1365                  Haskell Indian Nations University          580.0\n",
              "107                                        Dine College          725.0\n",
              "4436                             Luna Community College          886.0\n",
              "689                   United States Coast Guard Academy          942.0\n",
              "...                                                 ...            ...\n",
              "2662                                     Vassar College        49570.0\n",
              "4349                                   Landmark College        50080.0\n",
              "2597                             Sarah Lawrence College        50780.0\n",
              "2427        Columbia University in the City of New York        51008.0\n",
              "5832  Aviator College of Aeronautical Science and Te...        74787.0\n",
              "\n",
              "[4407 rows x 2 columns]"
            ]
          },
          "metadata": {
            "tags": []
          },
          "execution_count": 624
        }
      ]
    },
    {
      "cell_type": "code",
      "metadata": {
        "id": "jTPrVOgmfgf1",
        "outputId": "4a623141-d958-4cb6-fb9c-aee9270469ce",
        "colab": {
          "base_uri": "https://localhost:8080/"
        }
      },
      "source": [
        "#How many observations have 0 tuition?\n",
        "len(clean_df[clean_df['TUITIONFEE_IN'] == 0.0])"
      ],
      "execution_count": 625,
      "outputs": [
        {
          "output_type": "execute_result",
          "data": {
            "text/plain": [
              "1"
            ]
          },
          "metadata": {
            "tags": []
          },
          "execution_count": 625
        }
      ]
    },
    {
      "cell_type": "markdown",
      "metadata": {
        "id": "f40irJ36a-Cc"
      },
      "source": [
        "### Now we will drop them from the dataset."
      ]
    },
    {
      "cell_type": "code",
      "metadata": {
        "id": "9dbmLiJBaq41"
      },
      "source": [
        "#Looks like there are only two values that satisfy that condition\n",
        "drop_these = clean_df[clean_df['TUITIONFEE_IN'] == 0.0]"
      ],
      "execution_count": 626,
      "outputs": []
    },
    {
      "cell_type": "code",
      "metadata": {
        "id": "e79dwbtZfnSW",
        "outputId": "bd842cdb-589f-4b73-f8e2-00a68545473b",
        "colab": {
          "base_uri": "https://localhost:8080/"
        }
      },
      "source": [
        "#How many observations are we dropping?\n",
        "len(drop_these)"
      ],
      "execution_count": 627,
      "outputs": [
        {
          "output_type": "execute_result",
          "data": {
            "text/plain": [
              "1"
            ]
          },
          "metadata": {
            "tags": []
          },
          "execution_count": 627
        }
      ]
    },
    {
      "cell_type": "markdown",
      "metadata": {
        "id": "IdKB89V6zMu9"
      },
      "source": [
        "## 8 - Drop those observations with 0 tuition"
      ]
    },
    {
      "cell_type": "code",
      "metadata": {
        "id": "VPj2byOXbNFe"
      },
      "source": [
        "#Drop the data ('adds' the data together and then removes the duplicates)\n",
        "clean_df2 = pd.concat([clean_df, drop_these]).drop_duplicates(keep=False).sort_values(by=\"TUITIONFEE_IN\")"
      ],
      "execution_count": 628,
      "outputs": []
    },
    {
      "cell_type": "code",
      "metadata": {
        "id": "gcx0rv-diDsc",
        "outputId": "12dee879-4ab2-47bc-e53b-8ddc558ca4ad",
        "colab": {
          "base_uri": "https://localhost:8080/"
        }
      },
      "source": [
        "# Display the number of observations afterward\n",
        "clean_df2.shape"
      ],
      "execution_count": 629,
      "outputs": [
        {
          "output_type": "execute_result",
          "data": {
            "text/plain": [
              "(4364, 2)"
            ]
          },
          "metadata": {
            "tags": []
          },
          "execution_count": 629
        }
      ]
    },
    {
      "cell_type": "markdown",
      "metadata": {
        "id": "dqAbW_jUzQDI"
      },
      "source": [
        "## 9 - Calculate and display the mean (average) of the tuitions of all the remaining observations "
      ]
    },
    {
      "cell_type": "code",
      "metadata": {
        "id": "vXjrc9Km6oJq",
        "outputId": "68301fbe-a6e1-4c21-a459-6ffc7287e624",
        "colab": {
          "base_uri": "https://localhost:8080/"
        }
      },
      "source": [
        "#Aggregate and take mean\n",
        "clean_df2['TUITIONFEE_IN'].agg(\"mean\")"
      ],
      "execution_count": 630,
      "outputs": [
        {
          "output_type": "execute_result",
          "data": {
            "text/plain": [
              "14156.788725939505"
            ]
          },
          "metadata": {
            "tags": []
          },
          "execution_count": 630
        }
      ]
    },
    {
      "cell_type": "markdown",
      "metadata": {
        "id": "cMYBnT8lzViF"
      },
      "source": [
        "## 10 - Randomly select just 1 observation from the data frame."
      ]
    },
    {
      "cell_type": "code",
      "metadata": {
        "id": "Yyk1Kx456oJv",
        "outputId": "3f9dd011-5124-4c1a-c867-d321bf65f812",
        "colab": {
          "base_uri": "https://localhost:8080/"
        }
      },
      "source": [
        "# Display the tuition of that observation. \n",
        "one_obs = clean_df2.sample(1)\n",
        "obs_tuition = int(one_obs['TUITIONFEE_IN'])\n",
        "print(obs_tuition)"
      ],
      "execution_count": 631,
      "outputs": [
        {
          "output_type": "stream",
          "text": [
            "17997\n"
          ],
          "name": "stdout"
        }
      ]
    },
    {
      "cell_type": "markdown",
      "metadata": {
        "id": "BWZeaJ18zYqs"
      },
      "source": [
        "## 11 - Calculate the different between the tuition of this observation and the mean tuition off all observations calculated earlier."
      ]
    },
    {
      "cell_type": "code",
      "metadata": {
        "id": "2Jio5eDc6oJ0",
        "outputId": "2eb43172-9d90-44fa-d4a7-1d45754edeec",
        "colab": {
          "base_uri": "https://localhost:8080/"
        }
      },
      "source": [
        "# Display the difference\n",
        "int(clean_df2.agg(\"mean\")) - obs_tuition"
      ],
      "execution_count": 632,
      "outputs": [
        {
          "output_type": "execute_result",
          "data": {
            "text/plain": [
              "-3841"
            ]
          },
          "metadata": {
            "tags": []
          },
          "execution_count": 632
        }
      ]
    },
    {
      "cell_type": "code",
      "metadata": {
        "id": "jgc46FmjmjFO"
      },
      "source": [
        "#Let's store the full_df mean so that we can use it again in the later cells\n",
        "full_df_mean = int(clean_df2.agg(\"mean\"))"
      ],
      "execution_count": 633,
      "outputs": []
    },
    {
      "cell_type": "markdown",
      "metadata": {
        "id": "JlDppsLlzdUa"
      },
      "source": [
        "## 12 - Repeat 10 to 11 several times get the feel of the size of the difference in *means*"
      ]
    },
    {
      "cell_type": "code",
      "metadata": {
        "id": "E7RIjD8E6oJ5",
        "outputId": "c5dce74d-de54-47c4-d0b2-f87a5cacbcb4",
        "colab": {
          "base_uri": "https://localhost:8080/"
        }
      },
      "source": [
        "mean_difs = []\n",
        "\n",
        "for i in range(10):\n",
        "    dif = int(clean_df2['TUITIONFEE_IN'].sample(1)) - full_df_mean\n",
        "    mean_difs.append(dif)\n",
        "\n",
        "#Sort high to low\n",
        "sorted(mean_difs, reverse=False)"
      ],
      "execution_count": 634,
      "outputs": [
        {
          "output_type": "execute_result",
          "data": {
            "text/plain": [
              "[-12935, -11861, -11756, -10784, -8640, -7796, -6726, -2156, 3892, 12220]"
            ]
          },
          "metadata": {
            "tags": []
          },
          "execution_count": 634
        }
      ]
    },
    {
      "cell_type": "markdown",
      "metadata": {
        "id": "lg-Mz6e4zhqJ"
      },
      "source": [
        "## 13 - Randomly select 20 observations, display the tuition of these observation. "
      ]
    },
    {
      "cell_type": "code",
      "metadata": {
        "id": "X7P4DGbi6oJ-",
        "outputId": "7b912a88-3f20-46c7-f761-871d2ac3bda8",
        "colab": {
          "base_uri": "https://localhost:8080/"
        }
      },
      "source": [
        "sample_tuitions = []\n",
        "\n",
        "for i in range(20):\n",
        "    sample_tuitions.append(int(clean_df2['TUITIONFEE_IN'].sample(1)))\n",
        "\n",
        "sorted(sample_tuitions)"
      ],
      "execution_count": 635,
      "outputs": [
        {
          "output_type": "execute_result",
          "data": {
            "text/plain": [
              "[3359,\n",
              " 3766,\n",
              " 4232,\n",
              " 5785,\n",
              " 7265,\n",
              " 7294,\n",
              " 8756,\n",
              " 9965,\n",
              " 12975,\n",
              " 13932,\n",
              " 14245,\n",
              " 15296,\n",
              " 16044,\n",
              " 21100,\n",
              " 24650,\n",
              " 28900,\n",
              " 29842,\n",
              " 32960,\n",
              " 41380,\n",
              " 44724]"
            ]
          },
          "metadata": {
            "tags": []
          },
          "execution_count": 635
        }
      ]
    },
    {
      "cell_type": "markdown",
      "metadata": {
        "id": "8_20vkwXzo8O"
      },
      "source": [
        "OR"
      ]
    },
    {
      "cell_type": "code",
      "metadata": {
        "id": "ISLr4BQJm7CD"
      },
      "source": [
        "# 13 - Randomly select 20 observations, display the tuition of these observation. \n",
        "samples_df = clean_df2['TUITIONFEE_IN'].sample(20)"
      ],
      "execution_count": 636,
      "outputs": []
    },
    {
      "cell_type": "markdown",
      "metadata": {
        "id": "wxOm7vOMzqSX"
      },
      "source": [
        "## 14 - Calculate and display the mean tuition of these 20 observations"
      ]
    },
    {
      "cell_type": "code",
      "metadata": {
        "id": "2kvz1whj6oKA",
        "outputId": "7af1263e-5360-4bde-84bc-1b6fc882174d",
        "colab": {
          "base_uri": "https://localhost:8080/"
        }
      },
      "source": [
        "samples_df.mean()"
      ],
      "execution_count": 637,
      "outputs": [
        {
          "output_type": "execute_result",
          "data": {
            "text/plain": [
              "12492.2"
            ]
          },
          "metadata": {
            "tags": []
          },
          "execution_count": 637
        }
      ]
    },
    {
      "cell_type": "markdown",
      "metadata": {
        "id": "cEGB8CWDzw_l"
      },
      "source": [
        "## 15 - Calculate  the different between the average tuition of these 20 observations "
      ]
    },
    {
      "cell_type": "code",
      "metadata": {
        "id": "7qZe_Xn-6oKE",
        "outputId": "cf6312f6-017a-430c-f2c4-1c9e369939a6",
        "colab": {
          "base_uri": "https://localhost:8080/"
        }
      },
      "source": [
        "# and the mean tuition off all observations calculated earlier.\n",
        "# Display the difference\n",
        "round(full_df_mean - statistics.mean(sample_tuitions),2)"
      ],
      "execution_count": 638,
      "outputs": [
        {
          "output_type": "execute_result",
          "data": {
            "text/plain": [
              "-3167.5"
            ]
          },
          "metadata": {
            "tags": []
          },
          "execution_count": 638
        }
      ]
    },
    {
      "cell_type": "markdown",
      "metadata": {
        "id": "V6l6inqrzzUr"
      },
      "source": [
        "## 16 - Repeat 13 to 15 several times and get the feel of the size of the difference in means "
      ]
    },
    {
      "cell_type": "code",
      "metadata": {
        "id": "V7xgI6GU6oKH",
        "outputId": "93e7c27d-6bba-4842-e7dc-2a32833f4262",
        "colab": {
          "base_uri": "https://localhost:8080/"
        }
      },
      "source": [
        "# Compare these differences with the differences calculated earlier with just 1 observation\n",
        "# Describe your hunch/conclusion\n",
        "multi_obs = []\n",
        "for i in range(20):\n",
        "    one_sample = clean_df2['TUITIONFEE_IN'].sample(20)\n",
        "    obs_diff = full_df_mean = one_sample.mean()\n",
        "    multi_obs.append(obs_diff)\n",
        "\n",
        "print(sorted(multi_obs))"
      ],
      "execution_count": 639,
      "outputs": [
        {
          "output_type": "stream",
          "text": [
            "[8149.0, 10914.85, 10974.6, 12034.6, 12137.85, 12289.75, 12913.35, 13350.5, 13355.5, 13778.5, 13810.85, 14130.95, 14301.8, 14639.45, 14785.75, 14957.65, 15559.6, 15635.3, 16249.25, 17985.45]\n"
          ],
          "name": "stdout"
        }
      ]
    },
    {
      "cell_type": "markdown",
      "metadata": {
        "id": "i3twWh2RoPK2"
      },
      "source": [
        "### Hypothesis: \n",
        "These values will likely converge on an normal/gaussian distibution, which is evidenced by the number of values that are between 8-9k here.  \n",
        "Looking at the data, my understanding would be that the more samples we see, the closer we get to most values being near the mean of the entire set of values (values will be more likely to converge in terms of probability near the mean)"
      ]
    },
    {
      "cell_type": "markdown",
      "metadata": {
        "id": "0i4lLySc6oKK"
      },
      "source": [
        "Write a function that take two input parameters:\n",
        "- x (number of observations) \n",
        "- y (the name of the dataframe). \n",
        "\n",
        "The function will perform the following: \n",
        "- Randomly select x observations from y\n",
        "- Calculate the mean of these x observations \n",
        "- Calculate the mean of all observations\n",
        "- Calculate the difference between the two means \n",
        "- Return the difference"
      ]
    },
    {
      "cell_type": "markdown",
      "metadata": {
        "id": "ZMx2OSFZz2TX"
      },
      "source": [
        "## 17 - write function Code here"
      ]
    },
    {
      "cell_type": "code",
      "metadata": {
        "id": "ZblkuSq46oKL"
      },
      "source": [
        "# Function:\n",
        "def sample_obs(sample_obs,df):\n",
        "    return int(df.agg(\"mean\") - df.sample(sample_obs).agg(\"mean\")) #Returns Difference"
      ],
      "execution_count": 640,
      "outputs": []
    },
    {
      "cell_type": "markdown",
      "metadata": {
        "id": "J8Ppqj1oz7dk"
      },
      "source": [
        "## 18 - test the function by passing a sample size and the name of the dataframe"
      ]
    },
    {
      "cell_type": "code",
      "metadata": {
        "id": "rCtsaGCy6oKN",
        "outputId": "ad75ba79-ee3d-4605-ec44-d2ffa49e0725",
        "colab": {
          "base_uri": "https://localhost:8080/"
        }
      },
      "source": [
        "# Display the return of the function\n",
        "sample_obs(5, samples_df)"
      ],
      "execution_count": 641,
      "outputs": [
        {
          "output_type": "execute_result",
          "data": {
            "text/plain": [
              "-2134"
            ]
          },
          "metadata": {
            "tags": []
          },
          "execution_count": 641
        }
      ]
    },
    {
      "cell_type": "markdown",
      "metadata": {
        "id": "bDi37wVTz-47"
      },
      "source": [
        "## 19 - Create a list of sequence numbers from 1 to 50, name it \"sample_sizes\";"
      ]
    },
    {
      "cell_type": "code",
      "metadata": {
        "id": "0I58wyGH6oKP"
      },
      "source": [
        "# display it to make sure its members are from 1 to 50\n",
        "sample_sizes = [i for i in range(1,51)]"
      ],
      "execution_count": 642,
      "outputs": []
    },
    {
      "cell_type": "code",
      "metadata": {
        "id": "sBWwbejh6oKR",
        "outputId": "0e135c4d-d4f6-4216-ee79-cae99a964cad",
        "colab": {
          "base_uri": "https://localhost:8080/"
        }
      },
      "source": [
        "# 20 - Create an empty list and name it \"means_diff\" for differences of population mean and sample means;\n",
        "# Loop through the list sample_sizes:\n",
        "# For each element in the sample size list, obtain a random sample of that size from the data frame;\n",
        "# Calculate the sample mean \n",
        "# Calculate the difference between the population mean and the sample mean\n",
        "# Append the difference to the list \"means_diff\"\n",
        "# Display the list \"means_diff\" after the loop is completed\n",
        "means_diff = []\n",
        "\n",
        "for i in sample_sizes:\n",
        "    means_diff.append(sample_obs(i, clean_df2))\n",
        "\n",
        "print(means_diff)"
      ],
      "execution_count": 643,
      "outputs": [
        {
          "output_type": "stream",
          "text": [
            "[-23873, -12388, -5660, -4769, -2260, 1563, -1971, 540, 1029, 2182, 3025, 3139, -4824, 1071, -534, 894, 2257, 3799, 1517, 2415, 1984, 1014, 2671, 2131, -541, 3183, 2902, 3230, 178, 2003, 1014, 1136, -317, 1029, 1290, -1178, 15, 2231, 677, 1172, -936, -321, 1060, 981, 283, -1850, -1422, -2183, 40, 375]\n"
          ],
          "name": "stdout"
        }
      ]
    },
    {
      "cell_type": "code",
      "metadata": {
        "id": "CZxUYK6b6oKU",
        "outputId": "3cb8ffc0-ad73-4684-c7a0-cad70c6dcdeb",
        "colab": {
          "base_uri": "https://localhost:8080/",
          "height": 644
        }
      },
      "source": [
        "# 21 - Make a scatter plot with sample size on the x-axs and  mean difference on the y-axis\n",
        "# Observe as the sample size increases, the sample means converge to the population mean.\n",
        "# Make sure you make the plot large enough \n",
        "plt.figure(figsize=(20,10))\n",
        "plt.xlabel(\"Number of Samples\", size = 14)\n",
        "plt.ylabel(\"Sample Difference\", size = 14)\n",
        "plt.title(f\"Sample Size Vs. Sample Difference, for {len(means_diff)} samples\", size= 16)\n",
        "plt.plot(means_diff)"
      ],
      "execution_count": 644,
      "outputs": [
        {
          "output_type": "execute_result",
          "data": {
            "text/plain": [
              "[<matplotlib.lines.Line2D at 0x7fcbe535c240>]"
            ]
          },
          "metadata": {
            "tags": []
          },
          "execution_count": 644
        },
        {
          "output_type": "display_data",
          "data": {
            "image/png": "[encoded data removed]",
            "text/plain": [
              "<Figure size 1440x720 with 1 Axes>"
            ]
          },
          "metadata": {
            "tags": [],
            "needs_background": "light"
          }
        }
      ]
    },
    {
      "cell_type": "code",
      "metadata": {
        "id": "bH-9NsuOwKJv"
      },
      "source": [
        "# Sample for a thousand\n",
        "sample_300 = [i for i in range(1,501)]"
      ],
      "execution_count": 645,
      "outputs": []
    },
    {
      "cell_type": "markdown",
      "metadata": {
        "id": "Od4pqy2E0HuA"
      },
      "source": [
        "## 22 - repeat 18 to 21 by replacing 50 with a larger number. For example, 300, or even 1000."
      ]
    },
    {
      "cell_type": "code",
      "metadata": {
        "id": "tD8z_VyB6oKW",
        "outputId": "3f25b0a5-e173-42fb-d568-0ec48d697902",
        "colab": {
          "base_uri": "https://localhost:8080/"
        }
      },
      "source": [
        "# and see how the plot looks.\n",
        "means_diff_2 = []\n",
        "\n",
        "for i in sample_300:\n",
        "    means_diff_2.append(sample_obs(i, clean_df2))\n",
        "\n",
        "print(means_diff_2)"
      ],
      "execution_count": 646,
      "outputs": [
        {
          "output_type": "stream",
          "text": [
            "[-3891, 5839, -3526, -7133, 1341, 6744, 6170, -6341, -2027, -2177, 3093, -1527, -483, 1810, 2871, 781, -1882, -3477, -828, -4236, -1398, 982, 397, -811, -1722, -946, -3154, 3235, -1874, 577, 2815, 2339, 1711, 493, 1055, -795, -2220, -1086, -3273, -1622, 119, -1317, 346, -924, -2179, 3037, 1132, 1614, -681, -1299, 134, -939, 487, -154, -1937, 528, -538, -450, 1211, -1339, 755, -475, -703, -1538, -819, -1093, 987, 2465, 237, -1342, 954, -796, -829, -1251, -1642, -1055, 1447, 1056, -596, 675, 1963, 997, -809, -2772, -2327, 835, -445, -1780, -2879, -204, 198, -2057, 41, 349, -741, -598, 1437, 607, 132, 1024, -1437, 712, 118, 259, -658, -431, -616, -606, -1562, 1242, -826, -1155, -1030, -757, 1198, -215, -57, 359, -520, -1492, -2108, -165, 160, 425, 222, -540, -759, -591, -1617, 117, -945, 1462, -182, -586, 411, -1447, -2352, 1096, 1341, -639, 360, -509, -183, -502, 1032, 628, 1852, 508, -2047, -183, -500, -151, -440, 1385, -875, -1339, -453, 915, -1662, -216, 465, 720, 214, 170, -630, 97, -683, -768, 276, -1234, -982, -870, -1535, -430, -1190, 947, 962, -278, 164, -84, -431, 42, -70, 626, -1412, 13, 724, -921, 257, 973, -365, -1600, -122, 306, -357, -317, -395, -459, -447, 1149, -123, -550, 734, 160, 965, -273, -338, 311, 1129, -471, 509, -352, -944, 1181, 1548, -221, -340, 1084, 218, 196, -330, -748, 1193, -252, -61, 1272, 749, -665, -567, 281, 1469, 235, -1405, -184, -501, -60, 67, -4, 241, 421, -1850, 411, -1507, -134, 657, -593, 11, -137, 272, 535, 718, -414, -329, 736, -247, 226, 380, 85, 507, 688, 701, -1359, 95, -845, -939, -715, 1352, -1245, -297, 885, 29, -891, -1065, 415, 374, 627, -1087, -615, 52, 791, 605, -617, -311, 343, 585, 1084, 1956, -215, 192, -930, -125, 416, 17, -924, 465, -1611, 556, -189, -694, -916, 192, -8, -470, 122, 470, 236, 483, -1379, 199, 170, 838, 423, 674, 468, -1, 499, 242, 312, 50, 12, 558, -654, -426, -540, 959, 560, -48, 1040, 54, 99, -1523, -42, -287, 260, 16, -245, 768, 849, -670, -314, 764, 480, -372, -957, -817, 901, -830, -750, -427, 123, 428, -543, 40, 282, 853, 705, -1104, -187, -860, 129, 553, 411, 348, -64, -407, -517, -492, -300, -431, -952, 159, 662, -556, 1, -193, 445, 170, -490, 1120, -521, 220, -837, -299, -94, 508, 224, 271, -538, -159, 329, -660, -849, -504, -464, -825, -108, -1540, -203, 357, 287, -5, 401, 904, 43, 357, 202, -85, 54, -687, 673, -684, -135, 391, 557, -1266, 89, -781, 75, -556, 562, 220, -226, 182, -394, -461, 478, 492, 396, 835, -90, -288, 620, 35, 523, -909, -494, -225, -202, 19, -968, 138, -340, 1195, -143, 5, 482, -414, -41, 271, -1559, -96, 887, 253, -183, -182, 366, 994, -442, 28, 674, -824, -253, -367, 348, -159, -70, 573, -1420, -535, 427, -497, -965, 194, -300, 54, -121, -608, 1132, -239, 508, -421, -242, -46, -468, 776, 45, -350, 1063, -391, -137, -678, 95, -29, 462, 2, 1053, -16, -1, -756, -339]\n"
          ],
          "name": "stdout"
        }
      ]
    },
    {
      "cell_type": "code",
      "metadata": {
        "id": "MLBcyboQv2U7",
        "outputId": "81e27074-e285-4fb9-9417-b8bae4c41c8c",
        "colab": {
          "base_uri": "https://localhost:8080/",
          "height": 644
        }
      },
      "source": [
        "#Plot the graph\n",
        "plt.figure(figsize=(20,10))\n",
        "plt.title(f\"Sample Size Vs. Sample Difference, for {len(means_diff_2)} samples\", size= 16)\n",
        "plt.xlabel(\"Number of Samples\", size = 14)\n",
        "plt.ylabel(\"Sample Difference\", size = 14)\n",
        "plt.plot(means_diff_2, color = \"green\")"
      ],
      "execution_count": 647,
      "outputs": [
        {
          "output_type": "execute_result",
          "data": {
            "text/plain": [
              "[<matplotlib.lines.Line2D at 0x7fcbe5364160>]"
            ]
          },
          "metadata": {
            "tags": []
          },
          "execution_count": 647
        },
        {
          "output_type": "display_data",
          "data": {
            "image/png": "[encoded data removed]",
            "text/plain": [
              "<Figure size 1440x720 with 1 Axes>"
            ]
          },
          "metadata": {
            "tags": [],
            "needs_background": "light"
          }
        }
      ]
    },
    {
      "cell_type": "code",
      "metadata": {
        "id": "MjqbewGC6oKZ"
      },
      "source": [
        "# The end - Give yourself a pat on the back!"
      ],
      "execution_count": 648,
      "outputs": []
    }
  ]
}