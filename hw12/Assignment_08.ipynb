{
  "nbformat": 4,
  "nbformat_minor": 0,
  "metadata": {
    "kernelspec": {
      "display_name": "Python 3",
      "language": "python",
      "name": "python3"
    },
    "language_info": {
      "codemirror_mode": {
        "name": "ipython",
        "version": 3
      },
      "file_extension": ".py",
      "mimetype": "text/x-python",
      "name": "python",
      "nbconvert_exporter": "python",
      "pygments_lexer": "ipython3",
      "version": "3.7.4"
    },
    "colab": {
      "name": "Assignment-08",
      "provenance": [],
      "collapsed_sections": [],
      "toc_visible": true,
      "include_colab_link": true
    }
  },
  "cells": [
    {
      "cell_type": "markdown",
      "metadata": {
        "id": "view-in-github",
        "colab_type": "text"
      },
      "source": [
        "<a href=\"https://colab.research.google.com/github/Colsai/Coursera-Data-Science-Practice/blob/master/hw12/Assignment_08.ipynb\" target=\"_parent\"><img src=\"https://colab.research.google.com/assets/colab-badge.svg\" alt=\"Open In Colab\"/></a>"
      ]
    },
    {
      "cell_type": "markdown",
      "metadata": {
        "id": "iX27tKn0eFkI"
      },
      "source": [
        "# ASSIGNMENT 8: DATA690 WANG\n",
        "## STATS AND VISUALIZATION (HIRABAYASHI)\n"
      ]
    },
    {
      "cell_type": "markdown",
      "metadata": {
        "id": "51G5p5pCSKpz"
      },
      "source": [
        "*Use this first to Mount Google Drive*"
      ]
    },
    {
      "cell_type": "code",
      "metadata": {
        "id": "2p-5lL3yXleI",
        "outputId": "0238798f-09f2-4c2e-a4dc-f3de896d9562",
        "colab": {
          "base_uri": "https://localhost:8080/"
        }
      },
      "source": [
        "from google.colab import drive\n",
        "drive.mount('/content/drive')"
      ],
      "execution_count": 670,
      "outputs": [
        {
          "output_type": "stream",
          "text": [
            "Drive already mounted at /content/drive; to attempt to forcibly remount, call drive.mount(\"/content/drive\", force_remount=True).\n"
          ],
          "name": "stdout"
        }
      ]
    },
    {
      "cell_type": "markdown",
      "metadata": {
        "id": "-2fQAV7J6oI1"
      },
      "source": [
        "### Assignment 8\n",
        "For this assignment , we will use the college scorecard dataset. \n",
        "<pre>\n",
        "From the 22 individual school year data files, randomly (using Python) select one file. \n",
        "Only read the column \"TUITIONFEE_IN\" frm this file into a data frame.\n",
        "Find out how many observations this data frame has.\n",
        "Find out how many observations that have missing value. Drop those observations.\n",
        "Find out how many observations that have value of zero. Drop those observations.\n",
        "Calculate the mean of the tuition.\n",
        "Randomly select one observation, find out the tuition of that observation.\n",
        "Calculate the different between the tuition of this observation and the average tuition (mean) off all observations above.\n",
        "Randomly select another observation and repeat the above.\n",
        "Randomly select another observation and repeat the above.\n",
        "Randomly select 5 observations, display the tuition of these observation.\n",
        "Calculate the average of these 5 observations\n",
        "Calculate the different between the average tuition of thes 5 observations and the average tuition (mean) off all observations above.\n",
        "Randomly select another 5 observations and repeat the above.\n",
        "Randomly select another 5 observation and repeat the above.\n",
        "\n",
        "Randomly select 10 observations, display the tuition of these observation.\n",
        "Calculate the average of these 10 observations\n",
        "Calculate the different between the average tuition of thes 10 observations and the average tuition (mean) off all observations above.\n",
        "Randomly select another 10 observations and repeat the above.\n",
        "Randomly select another 10 observation and repeat the above.\n",
        "\n",
        "\n",
        "Randomly select 20 observations, display the tuition of these observation.\n",
        "Calculate the average of these 20 observations\n",
        "Calculate the different between the average tuition of thes 10 observations and the average tuition (mean) off all observations above.\n",
        "Randomly select another 20 observations and repeat the above.\n",
        "Randomly select another 20 observation and repeat the above.\n",
        "\n",
        "Randomly select 30 observations, display the tuition of these observation.\n",
        "Calculate the average of these 30 observations\n",
        "Calculate the different between the average tuition of thes 10 observations and the average tuition (mean) off all observations above.\n",
        "Randomly select another 30 observations and repeat the above.\n",
        "Randomly select another 30 observation and repeat the above.\n",
        "\n",
        "Write a function that take an input x (number of observations). \n",
        "The function will perform the following:\n",
        "\n",
        "Randomly select x observations, display the tuition of these observations.\n",
        "Calculate the average of these x observations\n",
        "Calculate the different between the average tuition of these x observations and the average tuition (mean) off all observations above.\n",
        "Display the difference.\n",
        "<pre>\n"
      ]
    },
    {
      "cell_type": "markdown",
      "metadata": {
        "id": "BK8MDXMVSWD-"
      },
      "source": [
        "## 1 - Import necessary libraries"
      ]
    },
    {
      "cell_type": "code",
      "metadata": {
        "id": "HpZckaJR6oI8"
      },
      "source": [
        "#Import pandas, random, matplotlib, etc.\n",
        "import pandas as pd\n",
        "import random\n",
        "import matplotlib.pyplot as plt\n",
        "import numpy as np\n",
        "import seaborn as sns\n",
        "import os"
      ],
      "execution_count": 671,
      "outputs": []
    },
    {
      "cell_type": "markdown",
      "metadata": {
        "id": "22OhXHzD0XEV"
      },
      "source": [
        "## 2 - Retrieve the names of the 22 files and assign them to a List variable"
      ]
    },
    {
      "cell_type": "code",
      "metadata": {
        "id": "6qafjqpb6oJC"
      },
      "source": [
        "# You would need to filter out other files\n",
        "# Display the names of these 22 files\n",
        "data_dir = '/content/drive/My Drive/College Data/'\n",
        "\n",
        "files = os.listdir(data_dir)\n",
        "merged_files = []\n",
        "\n",
        "for i in files:\n",
        "    if \"MERGED\" in i:\n",
        "        merged_files.append(i)"
      ],
      "execution_count": 672,
      "outputs": []
    },
    {
      "cell_type": "code",
      "metadata": {
        "id": "3IvAjYtkYqQv",
        "outputId": "7f42a36a-2b69-4f41-c64e-7e8423af9857",
        "colab": {
          "base_uri": "https://localhost:8080/"
        }
      },
      "source": [
        "#let's just check the length of the number of merged_files (is it around 22/23)\n",
        "len(merged_files)"
      ],
      "execution_count": 673,
      "outputs": [
        {
          "output_type": "execute_result",
          "data": {
            "text/plain": [
              "23"
            ]
          },
          "metadata": {
            "tags": []
          },
          "execution_count": 673
        }
      ]
    },
    {
      "cell_type": "markdown",
      "metadata": {
        "id": "47XfFRN7Sasv"
      },
      "source": [
        "## 3 - Write code to randomly select one file name out of the 22 files names. "
      ]
    },
    {
      "cell_type": "code",
      "metadata": {
        "id": "ft9Rn1lp6oJG",
        "outputId": "7c36bca8-646d-42ce-c5a5-a03eb1561e85",
        "colab": {
          "base_uri": "https://localhost:8080/"
        }
      },
      "source": [
        "# Hint: generate a random integer between 0 and 21 first\n",
        "# Display the file name\n",
        "\n",
        "rand_num = random.randint(0, len(merged_files))\n",
        "file_name = merged_files[rand_num]\n",
        "print(file_name)"
      ],
      "execution_count": 674,
      "outputs": [
        {
          "output_type": "stream",
          "text": [
            "MERGED2011_12_PP.csv\n"
          ],
          "name": "stdout"
        }
      ]
    },
    {
      "cell_type": "markdown",
      "metadata": {
        "id": "NKbKTDbPSdk1"
      },
      "source": [
        "## 4 - Only read the two columns: college name (INSTNM) and in state tution (\"TUITIONFEE_IN\")"
      ]
    },
    {
      "cell_type": "code",
      "metadata": {
        "id": "DJy1hmWM6oJN"
      },
      "source": [
        "# from this file into a data frame aand display use info() function to display a summary information\n",
        "\n",
        "df = pd.read_csv(data_dir + file_name, \n",
        "                          usecols = [\"INSTNM\", \"TUITIONFEE_IN\"])"
      ],
      "execution_count": 675,
      "outputs": []
    },
    {
      "cell_type": "code",
      "metadata": {
        "id": "eRCEJPWLXdOV",
        "outputId": "4be118f6-306a-4dc0-dd4d-7e32ec9998b5",
        "colab": {
          "base_uri": "https://localhost:8080/"
        }
      },
      "source": [
        "#Look at the info for the dataframe\n",
        "df.info()"
      ],
      "execution_count": 676,
      "outputs": [
        {
          "output_type": "stream",
          "text": [
            "<class 'pandas.core.frame.DataFrame'>\n",
            "RangeIndex: 7746 entries, 0 to 7745\n",
            "Data columns (total 2 columns):\n",
            " #   Column         Non-Null Count  Dtype  \n",
            "---  ------         --------------  -----  \n",
            " 0   INSTNM         7746 non-null   object \n",
            " 1   TUITIONFEE_IN  4444 non-null   float64\n",
            "dtypes: float64(1), object(1)\n",
            "memory usage: 121.2+ KB\n"
          ],
          "name": "stdout"
        }
      ]
    },
    {
      "cell_type": "markdown",
      "metadata": {
        "id": "cIJSZYO7Sj-_"
      },
      "source": [
        "## 5 - Find out how many observations have missing value."
      ]
    },
    {
      "cell_type": "code",
      "metadata": {
        "id": "wU5Ozu106oJR",
        "outputId": "8f154f8e-f81a-4ecc-f2b4-f1cc109e1243",
        "colab": {
          "base_uri": "https://localhost:8080/"
        }
      },
      "source": [
        "#Look for null values\n",
        "df.isnull().count() #Or we can use .sum()"
      ],
      "execution_count": 677,
      "outputs": [
        {
          "output_type": "execute_result",
          "data": {
            "text/plain": [
              "INSTNM           7746\n",
              "TUITIONFEE_IN    7746\n",
              "dtype: int64"
            ]
          },
          "metadata": {
            "tags": []
          },
          "execution_count": 677
        }
      ]
    },
    {
      "cell_type": "code",
      "metadata": {
        "id": "buoeo75MfdWa",
        "outputId": "9f641311-8016-4709-965f-418d326ffe97",
        "colab": {
          "base_uri": "https://localhost:8080/",
          "height": 204
        }
      },
      "source": [
        "#Head of the data\n",
        "df.head()"
      ],
      "execution_count": 678,
      "outputs": [
        {
          "output_type": "execute_result",
          "data": {
            "text/html": [
              "<div>\n",
              "<style scoped>\n",
              "    .dataframe tbody tr th:only-of-type {\n",
              "        vertical-align: middle;\n",
              "    }\n",
              "\n",
              "    .dataframe tbody tr th {\n",
              "        vertical-align: top;\n",
              "    }\n",
              "\n",
              "    .dataframe thead th {\n",
              "        text-align: right;\n",
              "    }\n",
              "</style>\n",
              "<table border=\"1\" class=\"dataframe\">\n",
              "  <thead>\n",
              "    <tr style=\"text-align: right;\">\n",
              "      <th></th>\n",
              "      <th>INSTNM</th>\n",
              "      <th>TUITIONFEE_IN</th>\n",
              "    </tr>\n",
              "  </thead>\n",
              "  <tbody>\n",
              "    <tr>\n",
              "      <th>0</th>\n",
              "      <td>Alabama A &amp; M University</td>\n",
              "      <td>6828.0</td>\n",
              "    </tr>\n",
              "    <tr>\n",
              "      <th>1</th>\n",
              "      <td>University of Alabama at Birmingham</td>\n",
              "      <td>6264.0</td>\n",
              "    </tr>\n",
              "    <tr>\n",
              "      <th>2</th>\n",
              "      <td>Amridge University</td>\n",
              "      <td>8720.0</td>\n",
              "    </tr>\n",
              "    <tr>\n",
              "      <th>3</th>\n",
              "      <td>University of Alabama in Huntsville</td>\n",
              "      <td>8094.0</td>\n",
              "    </tr>\n",
              "    <tr>\n",
              "      <th>4</th>\n",
              "      <td>Alabama State University</td>\n",
              "      <td>8082.0</td>\n",
              "    </tr>\n",
              "  </tbody>\n",
              "</table>\n",
              "</div>"
            ],
            "text/plain": [
              "                                INSTNM  TUITIONFEE_IN\n",
              "0             Alabama A & M University         6828.0\n",
              "1  University of Alabama at Birmingham         6264.0\n",
              "2                   Amridge University         8720.0\n",
              "3  University of Alabama in Huntsville         8094.0\n",
              "4             Alabama State University         8082.0"
            ]
          },
          "metadata": {
            "tags": []
          },
          "execution_count": 678
        }
      ]
    },
    {
      "cell_type": "code",
      "metadata": {
        "id": "0IWU_X40TiAS",
        "outputId": "eaebdf95-fca3-42ff-9bcb-65b804be5bda",
        "colab": {
          "base_uri": "https://localhost:8080/"
        }
      },
      "source": [
        "#Shape of the dataframe\n",
        "df.shape"
      ],
      "execution_count": 679,
      "outputs": [
        {
          "output_type": "execute_result",
          "data": {
            "text/plain": [
              "(7746, 2)"
            ]
          },
          "metadata": {
            "tags": []
          },
          "execution_count": 679
        }
      ]
    },
    {
      "cell_type": "markdown",
      "metadata": {
        "id": "QUfMCtHS0jFM"
      },
      "source": [
        "## 6 - Drop those observations with missing value"
      ]
    },
    {
      "cell_type": "code",
      "metadata": {
        "id": "V0MTbBwv6oJW"
      },
      "source": [
        "#Look for all of the data that is NaN\n",
        "clean_df = df.dropna(axis = 0, how ='any') "
      ],
      "execution_count": 680,
      "outputs": []
    },
    {
      "cell_type": "code",
      "metadata": {
        "id": "8VIbwEOIXrZD",
        "outputId": "7bcdf979-ddfc-4e93-af48-b78c4cd8bc0e",
        "colab": {
          "base_uri": "https://localhost:8080/"
        }
      },
      "source": [
        "# Display the number of observations afterward\n",
        "len(clean_df)"
      ],
      "execution_count": 681,
      "outputs": [
        {
          "output_type": "execute_result",
          "data": {
            "text/plain": [
              "4444"
            ]
          },
          "metadata": {
            "tags": []
          },
          "execution_count": 681
        }
      ]
    },
    {
      "cell_type": "code",
      "metadata": {
        "id": "40mi9j-XfSAw",
        "outputId": "eeed5bcd-18e2-4bee-db19-642a8cfb17ed",
        "colab": {
          "base_uri": "https://localhost:8080/"
        }
      },
      "source": [
        "#How many observations did we drop?\n",
        "len(df) - len(clean_df)"
      ],
      "execution_count": 682,
      "outputs": [
        {
          "output_type": "execute_result",
          "data": {
            "text/plain": [
              "3302"
            ]
          },
          "metadata": {
            "tags": []
          },
          "execution_count": 682
        }
      ]
    },
    {
      "cell_type": "markdown",
      "metadata": {
        "id": "T8WslIDrsSP_"
      },
      "source": [
        "## 7 - Find out how many observations have 0 tuition: Let's just take a look by sorting"
      ]
    },
    {
      "cell_type": "code",
      "metadata": {
        "id": "A-pfpASe6oJb",
        "outputId": "c7449069-66ac-441a-9a46-6ea747ffdce8",
        "colab": {
          "base_uri": "https://localhost:8080/",
          "height": 419
        }
      },
      "source": [
        "#Sort the data to look at some values that are 0\n",
        "clean_df.sort_values(by=\"TUITIONFEE_IN\", ascending=True)"
      ],
      "execution_count": 683,
      "outputs": [
        {
          "output_type": "execute_result",
          "data": {
            "text/html": [
              "<div>\n",
              "<style scoped>\n",
              "    .dataframe tbody tr th:only-of-type {\n",
              "        vertical-align: middle;\n",
              "    }\n",
              "\n",
              "    .dataframe tbody tr th {\n",
              "        vertical-align: top;\n",
              "    }\n",
              "\n",
              "    .dataframe thead th {\n",
              "        text-align: right;\n",
              "    }\n",
              "</style>\n",
              "<table border=\"1\" class=\"dataframe\">\n",
              "  <thead>\n",
              "    <tr style=\"text-align: right;\">\n",
              "      <th></th>\n",
              "      <th>INSTNM</th>\n",
              "      <th>TUITIONFEE_IN</th>\n",
              "    </tr>\n",
              "  </thead>\n",
              "  <tbody>\n",
              "    <tr>\n",
              "      <th>1719</th>\n",
              "      <td>United States Naval Academy</td>\n",
              "      <td>0.0</td>\n",
              "    </tr>\n",
              "    <tr>\n",
              "      <th>720</th>\n",
              "      <td>United States Coast Guard Academy</td>\n",
              "      <td>0.0</td>\n",
              "    </tr>\n",
              "    <tr>\n",
              "      <th>2781</th>\n",
              "      <td>United States Merchant Marine Academy</td>\n",
              "      <td>0.0</td>\n",
              "    </tr>\n",
              "    <tr>\n",
              "      <th>659</th>\n",
              "      <td>United States Air Force Academy</td>\n",
              "      <td>0.0</td>\n",
              "    </tr>\n",
              "    <tr>\n",
              "      <th>2782</th>\n",
              "      <td>United States Military Academy</td>\n",
              "      <td>0.0</td>\n",
              "    </tr>\n",
              "    <tr>\n",
              "      <th>...</th>\n",
              "      <td>...</td>\n",
              "      <td>...</td>\n",
              "    </tr>\n",
              "    <tr>\n",
              "      <th>2714</th>\n",
              "      <td>Sarah Lawrence College</td>\n",
              "      <td>45212.0</td>\n",
              "    </tr>\n",
              "    <tr>\n",
              "      <th>2533</th>\n",
              "      <td>Columbia University in the City of New York</td>\n",
              "      <td>45290.0</td>\n",
              "    </tr>\n",
              "    <tr>\n",
              "      <th>4521</th>\n",
              "      <td>Landmark College</td>\n",
              "      <td>48710.0</td>\n",
              "    </tr>\n",
              "    <tr>\n",
              "      <th>6254</th>\n",
              "      <td>Aviator College of Aeronautical Science and Te...</td>\n",
              "      <td>59850.0</td>\n",
              "    </tr>\n",
              "    <tr>\n",
              "      <th>5418</th>\n",
              "      <td>L3 Commercial Training Solutions Airline Academy</td>\n",
              "      <td>70024.0</td>\n",
              "    </tr>\n",
              "  </tbody>\n",
              "</table>\n",
              "<p>4444 rows × 2 columns</p>\n",
              "</div>"
            ],
            "text/plain": [
              "                                                 INSTNM  TUITIONFEE_IN\n",
              "1719                        United States Naval Academy            0.0\n",
              "720                   United States Coast Guard Academy            0.0\n",
              "2781              United States Merchant Marine Academy            0.0\n",
              "659                     United States Air Force Academy            0.0\n",
              "2782                     United States Military Academy            0.0\n",
              "...                                                 ...            ...\n",
              "2714                             Sarah Lawrence College        45212.0\n",
              "2533        Columbia University in the City of New York        45290.0\n",
              "4521                                   Landmark College        48710.0\n",
              "6254  Aviator College of Aeronautical Science and Te...        59850.0\n",
              "5418   L3 Commercial Training Solutions Airline Academy        70024.0\n",
              "\n",
              "[4444 rows x 2 columns]"
            ]
          },
          "metadata": {
            "tags": []
          },
          "execution_count": 683
        }
      ]
    },
    {
      "cell_type": "code",
      "metadata": {
        "id": "jTPrVOgmfgf1",
        "outputId": "4db1b0f8-fc21-4e20-e8bb-29e051b91844",
        "colab": {
          "base_uri": "https://localhost:8080/"
        }
      },
      "source": [
        "#How many observations have 0 tuition?\n",
        "len(clean_df[clean_df['TUITIONFEE_IN'] == 0.0])"
      ],
      "execution_count": 684,
      "outputs": [
        {
          "output_type": "execute_result",
          "data": {
            "text/plain": [
              "5"
            ]
          },
          "metadata": {
            "tags": []
          },
          "execution_count": 684
        }
      ]
    },
    {
      "cell_type": "markdown",
      "metadata": {
        "id": "f40irJ36a-Cc"
      },
      "source": [
        "### Now we will drop them from the dataset."
      ]
    },
    {
      "cell_type": "code",
      "metadata": {
        "id": "9dbmLiJBaq41"
      },
      "source": [
        "#Looks like there are only two values that satisfy that condition\n",
        "drop_these = clean_df[clean_df['TUITIONFEE_IN'] == 0.0]"
      ],
      "execution_count": 685,
      "outputs": []
    },
    {
      "cell_type": "code",
      "metadata": {
        "id": "e79dwbtZfnSW",
        "outputId": "028f9348-655d-4fc4-ba1b-e09077090ee0",
        "colab": {
          "base_uri": "https://localhost:8080/"
        }
      },
      "source": [
        "#How many observations are we dropping?\n",
        "len(drop_these)"
      ],
      "execution_count": 686,
      "outputs": [
        {
          "output_type": "execute_result",
          "data": {
            "text/plain": [
              "5"
            ]
          },
          "metadata": {
            "tags": []
          },
          "execution_count": 686
        }
      ]
    },
    {
      "cell_type": "markdown",
      "metadata": {
        "id": "IdKB89V6zMu9"
      },
      "source": [
        "## 8 - Drop those observations with 0 tuition"
      ]
    },
    {
      "cell_type": "code",
      "metadata": {
        "id": "VPj2byOXbNFe"
      },
      "source": [
        "#Drop the data ('adds' the data together and then removes the duplicates)\n",
        "clean_df2 = pd.concat([clean_df, drop_these]).drop_duplicates(keep=False).sort_values(by=\"TUITIONFEE_IN\")"
      ],
      "execution_count": 687,
      "outputs": []
    },
    {
      "cell_type": "code",
      "metadata": {
        "id": "gcx0rv-diDsc",
        "outputId": "01be44b6-260e-4c0e-b38a-d1b688b7095d",
        "colab": {
          "base_uri": "https://localhost:8080/"
        }
      },
      "source": [
        "# Display the number of observations afterward\n",
        "clean_df2.shape"
      ],
      "execution_count": 688,
      "outputs": [
        {
          "output_type": "execute_result",
          "data": {
            "text/plain": [
              "(4400, 2)"
            ]
          },
          "metadata": {
            "tags": []
          },
          "execution_count": 688
        }
      ]
    },
    {
      "cell_type": "markdown",
      "metadata": {
        "id": "dqAbW_jUzQDI"
      },
      "source": [
        "## 9 - Calculate and display the mean (average) of the tuitions of all the remaining observations "
      ]
    },
    {
      "cell_type": "code",
      "metadata": {
        "id": "vXjrc9Km6oJq",
        "outputId": "9ae031fc-1046-4d18-e67c-a7aac392ddfa",
        "colab": {
          "base_uri": "https://localhost:8080/"
        }
      },
      "source": [
        "#Aggregate and take mean\n",
        "clean_df2['TUITIONFEE_IN'].agg(\"mean\")"
      ],
      "execution_count": 689,
      "outputs": [
        {
          "output_type": "execute_result",
          "data": {
            "text/plain": [
              "13060.762272727272"
            ]
          },
          "metadata": {
            "tags": []
          },
          "execution_count": 689
        }
      ]
    },
    {
      "cell_type": "markdown",
      "metadata": {
        "id": "cMYBnT8lzViF"
      },
      "source": [
        "## 10 - Randomly select just 1 observation from the data frame."
      ]
    },
    {
      "cell_type": "code",
      "metadata": {
        "id": "Yyk1Kx456oJv",
        "outputId": "5d31252c-11a8-4ced-f54f-06d9889831fe",
        "colab": {
          "base_uri": "https://localhost:8080/"
        }
      },
      "source": [
        "# Display the tuition of that observation. \n",
        "one_obs = clean_df2.sample(1)\n",
        "obs_tuition = int(one_obs['TUITIONFEE_IN'])\n",
        "print(obs_tuition)"
      ],
      "execution_count": 690,
      "outputs": [
        {
          "output_type": "stream",
          "text": [
            "3557\n"
          ],
          "name": "stdout"
        }
      ]
    },
    {
      "cell_type": "markdown",
      "metadata": {
        "id": "BWZeaJ18zYqs"
      },
      "source": [
        "## 11 - Calculate the different between the tuition of this observation and the mean tuition off all observations calculated earlier."
      ]
    },
    {
      "cell_type": "code",
      "metadata": {
        "id": "2Jio5eDc6oJ0",
        "outputId": "1b9a65a1-8d83-4550-995f-87de894d15b4",
        "colab": {
          "base_uri": "https://localhost:8080/"
        }
      },
      "source": [
        "# Display the difference\n",
        "int(clean_df2.agg(\"mean\")) - obs_tuition"
      ],
      "execution_count": 691,
      "outputs": [
        {
          "output_type": "execute_result",
          "data": {
            "text/plain": [
              "9503"
            ]
          },
          "metadata": {
            "tags": []
          },
          "execution_count": 691
        }
      ]
    },
    {
      "cell_type": "code",
      "metadata": {
        "id": "jgc46FmjmjFO"
      },
      "source": [
        "#Let's store the full_df mean so that we can use it again in the later cells\n",
        "full_df_mean = int(clean_df2.agg(\"mean\"))"
      ],
      "execution_count": 692,
      "outputs": []
    },
    {
      "cell_type": "markdown",
      "metadata": {
        "id": "JlDppsLlzdUa"
      },
      "source": [
        "## 12 - Repeat 10 to 11 several times get the feel of the size of the difference in *means*"
      ]
    },
    {
      "cell_type": "code",
      "metadata": {
        "id": "E7RIjD8E6oJ5",
        "outputId": "7359084f-6083-4434-d296-48e346295105",
        "colab": {
          "base_uri": "https://localhost:8080/"
        }
      },
      "source": [
        "mean_difs = []\n",
        "\n",
        "for i in range(10):\n",
        "    dif = int(clean_df2['TUITIONFEE_IN'].sample(1)) - full_df_mean\n",
        "    mean_difs.append(dif)\n",
        "\n",
        "#Sort high to low\n",
        "sorted(mean_difs, reverse=False)"
      ],
      "execution_count": 693,
      "outputs": [
        {
          "output_type": "execute_result",
          "data": {
            "text/plain": [
              "[-9794, -8612, -6905, -404, 1733, 1863, 4820, 7983, 16335, 29368]"
            ]
          },
          "metadata": {
            "tags": []
          },
          "execution_count": 693
        }
      ]
    },
    {
      "cell_type": "markdown",
      "metadata": {
        "id": "lg-Mz6e4zhqJ"
      },
      "source": [
        "## 13 - Randomly select 20 observations, display the tuition of these observation. "
      ]
    },
    {
      "cell_type": "code",
      "metadata": {
        "id": "X7P4DGbi6oJ-",
        "outputId": "945b9e78-f545-4b0c-e3a1-9e4cbfebc9a0",
        "colab": {
          "base_uri": "https://localhost:8080/"
        }
      },
      "source": [
        "sample_tuitions = []\n",
        "\n",
        "for i in range(20):\n",
        "    sample_tuitions.append(int(clean_df2['TUITIONFEE_IN'].sample(1)))\n",
        "\n",
        "sorted(sample_tuitions)"
      ],
      "execution_count": 694,
      "outputs": [
        {
          "output_type": "execute_result",
          "data": {
            "text/plain": [
              "[1354,\n",
              " 2158,\n",
              " 2490,\n",
              " 3114,\n",
              " 3144,\n",
              " 4100,\n",
              " 5326,\n",
              " 6168,\n",
              " 8400,\n",
              " 11981,\n",
              " 12260,\n",
              " 12420,\n",
              " 14616,\n",
              " 17821,\n",
              " 18048,\n",
              " 19550,\n",
              " 23400,\n",
              " 28060,\n",
              " 32703,\n",
              " 34090]"
            ]
          },
          "metadata": {
            "tags": []
          },
          "execution_count": 694
        }
      ]
    },
    {
      "cell_type": "markdown",
      "metadata": {
        "id": "8_20vkwXzo8O"
      },
      "source": [
        "OR"
      ]
    },
    {
      "cell_type": "code",
      "metadata": {
        "id": "ISLr4BQJm7CD"
      },
      "source": [
        "# 13 - Randomly select 20 observations, display the tuition of these observation. \n",
        "samples_df = clean_df2['TUITIONFEE_IN'].sample(20)"
      ],
      "execution_count": 695,
      "outputs": []
    },
    {
      "cell_type": "markdown",
      "metadata": {
        "id": "wxOm7vOMzqSX"
      },
      "source": [
        "## 14 - Calculate and display the mean tuition of these 20 observations"
      ]
    },
    {
      "cell_type": "code",
      "metadata": {
        "id": "2kvz1whj6oKA",
        "outputId": "fd914361-f605-4e39-c817-14edddce1231",
        "colab": {
          "base_uri": "https://localhost:8080/"
        }
      },
      "source": [
        "samples_df.mean()"
      ],
      "execution_count": 696,
      "outputs": [
        {
          "output_type": "execute_result",
          "data": {
            "text/plain": [
              "13930.8"
            ]
          },
          "metadata": {
            "tags": []
          },
          "execution_count": 696
        }
      ]
    },
    {
      "cell_type": "markdown",
      "metadata": {
        "id": "cEGB8CWDzw_l"
      },
      "source": [
        "## 15 - Calculate  the different between the average tuition of these 20 observations "
      ]
    },
    {
      "cell_type": "code",
      "metadata": {
        "id": "7qZe_Xn-6oKE",
        "outputId": "b5999c4a-579d-4992-e1bb-3b5f2e91c73d",
        "colab": {
          "base_uri": "https://localhost:8080/"
        }
      },
      "source": [
        "# and the mean tuition off all observations calculated earlier.\n",
        "# Display the difference\n",
        "round(full_df_mean - statistics.mean(sample_tuitions),2)"
      ],
      "execution_count": 697,
      "outputs": [
        {
          "output_type": "execute_result",
          "data": {
            "text/plain": [
              "-0.15"
            ]
          },
          "metadata": {
            "tags": []
          },
          "execution_count": 697
        }
      ]
    },
    {
      "cell_type": "markdown",
      "metadata": {
        "id": "V6l6inqrzzUr"
      },
      "source": [
        "## 16 - Repeat 13 to 15 several times and get the feel of the size of the difference in means "
      ]
    },
    {
      "cell_type": "code",
      "metadata": {
        "id": "V7xgI6GU6oKH",
        "outputId": "814a11fa-7033-4f3d-b179-3343c30270bd",
        "colab": {
          "base_uri": "https://localhost:8080/"
        }
      },
      "source": [
        "# Compare these differences with the differences calculated earlier with just 1 observation\n",
        "# Describe your hunch/conclusion\n",
        "multi_obs = []\n",
        "for i in range(20):\n",
        "    one_sample = clean_df2['TUITIONFEE_IN'].sample(20)\n",
        "    obs_diff = full_df_mean = one_sample.mean()\n",
        "    multi_obs.append(obs_diff)\n",
        "\n",
        "print(sorted(multi_obs))"
      ],
      "execution_count": 698,
      "outputs": [
        {
          "output_type": "stream",
          "text": [
            "[10585.65, 10861.25, 11311.5, 11516.05, 11572.35, 11630.6, 11678.85, 11791.15, 11835.1, 11840.55, 12025.45, 12986.15, 13733.35, 13885.1, 13962.55, 14197.1, 14630.05, 15105.65, 17353.25, 18127.8]\n"
          ],
          "name": "stdout"
        }
      ]
    },
    {
      "cell_type": "markdown",
      "metadata": {
        "id": "i3twWh2RoPK2"
      },
      "source": [
        "### Hypothesis: \n",
        "These values will likely converge on an normal/gaussian distibution, which is evidenced by the number of values that are between 8-9k here.  \n",
        "Looking at the data, my understanding would be that the more samples we see, the closer we get to most values being near the mean of the entire set of values (values will be more likely to converge in terms of probability near the mean)"
      ]
    },
    {
      "cell_type": "markdown",
      "metadata": {
        "id": "0i4lLySc6oKK"
      },
      "source": [
        "Write a function that take two input parameters:\n",
        "- x (number of observations) \n",
        "- y (the name of the dataframe). \n",
        "\n",
        "The function will perform the following: \n",
        "- Randomly select x observations from y\n",
        "- Calculate the mean of these x observations \n",
        "- Calculate the mean of all observations\n",
        "- Calculate the difference between the two means \n",
        "- Return the difference"
      ]
    },
    {
      "cell_type": "markdown",
      "metadata": {
        "id": "ZMx2OSFZz2TX"
      },
      "source": [
        "## 17 - write function Code here"
      ]
    },
    {
      "cell_type": "code",
      "metadata": {
        "id": "ZblkuSq46oKL"
      },
      "source": [
        "# Function:\n",
        "def sample_obs(sample_obs,df):\n",
        "    return int(df.agg(\"mean\") - df.sample(sample_obs).agg(\"mean\")) #Returns Difference"
      ],
      "execution_count": 699,
      "outputs": []
    },
    {
      "cell_type": "markdown",
      "metadata": {
        "id": "J8Ppqj1oz7dk"
      },
      "source": [
        "## 18 - test the function by passing a sample size and the name of the dataframe"
      ]
    },
    {
      "cell_type": "code",
      "metadata": {
        "id": "rCtsaGCy6oKN",
        "outputId": "ac6f075c-42bd-4bab-ca89-c2905af65c4e",
        "colab": {
          "base_uri": "https://localhost:8080/"
        }
      },
      "source": [
        "# Display the return of the function\n",
        "sample_obs(5, samples_df)"
      ],
      "execution_count": 700,
      "outputs": [
        {
          "output_type": "execute_result",
          "data": {
            "text/plain": [
              "32"
            ]
          },
          "metadata": {
            "tags": []
          },
          "execution_count": 700
        }
      ]
    },
    {
      "cell_type": "markdown",
      "metadata": {
        "id": "bDi37wVTz-47"
      },
      "source": [
        "## 19 - Create a list of sequence numbers from 1 to 50, name it \"sample_sizes\";"
      ]
    },
    {
      "cell_type": "code",
      "metadata": {
        "id": "0I58wyGH6oKP"
      },
      "source": [
        "# display it to make sure its members are from 1 to 50\n",
        "sample_sizes = [i for i in range(1,51)]"
      ],
      "execution_count": 701,
      "outputs": []
    },
    {
      "cell_type": "code",
      "metadata": {
        "id": "sBWwbejh6oKR",
        "outputId": "96e9e6ff-91d1-4400-bebf-46b63d425302",
        "colab": {
          "base_uri": "https://localhost:8080/"
        }
      },
      "source": [
        "# 20 - Create an empty list and name it \"means_diff\" for differences of population mean and sample means;\n",
        "# Loop through the list sample_sizes:\n",
        "# For each element in the sample size list, obtain a random sample of that size from the data frame;\n",
        "# Calculate the sample mean \n",
        "# Calculate the difference between the population mean and the sample mean\n",
        "# Append the difference to the list \"means_diff\"\n",
        "# Display the list \"means_diff\" after the loop is completed\n",
        "means_diff = []\n",
        "\n",
        "for i in sample_sizes:\n",
        "    means_diff.append(sample_obs(i, clean_df2))\n",
        "\n",
        "print(means_diff)"
      ],
      "execution_count": 702,
      "outputs": [
        {
          "output_type": "stream",
          "text": [
            "[2470, -7133, 1643, 3357, -462, -3099, 816, 548, 3418, -6458, 1422, -2916, 178, 3933, 168, -3896, 144, -2756, -90, 5379, 310, 2546, -2551, 1740, -1333, 3453, -824, -3850, -515, -1050, -5176, 1275, 1894, -2600, -4925, 713, -698, -1870, 59, -1405, -175, -192, -1368, 197, 493, 1435, 1822, -2116, -3935, 1496]\n"
          ],
          "name": "stdout"
        }
      ]
    },
    {
      "cell_type": "code",
      "metadata": {
        "id": "CZxUYK6b6oKU",
        "outputId": "b2717b70-a730-4170-83df-268dcdef44ac",
        "colab": {
          "base_uri": "https://localhost:8080/",
          "height": 644
        }
      },
      "source": [
        "# 21 - Make a scatter plot with sample size on the x-axs and  mean difference on the y-axis\n",
        "# Observe as the sample size increases, the sample means converge to the population mean.\n",
        "# Make sure you make the plot large enough \n",
        "plt.figure(figsize=(20,10))\n",
        "plt.xlabel(\"Number of Samples\", size = 14)\n",
        "plt.ylabel(\"Sample Difference\", size = 14)\n",
        "plt.title(f\"Sample Size Vs. Sample Difference, for {len(means_diff)} samples\", size= 16)\n",
        "plt.plot(means_diff)"
      ],
      "execution_count": 703,
      "outputs": [
        {
          "output_type": "execute_result",
          "data": {
            "text/plain": [
              "[<matplotlib.lines.Line2D at 0x7fcbe51fc4e0>]"
            ]
          },
          "metadata": {
            "tags": []
          },
          "execution_count": 703
        },
        {
          "output_type": "display_data",
          "data": {
            "image/png": "[encoded data removed]",
            "text/plain": [
              "<Figure size 1440x720 with 1 Axes>"
            ]
          },
          "metadata": {
            "tags": [],
            "needs_background": "light"
          }
        }
      ]
    },
    {
      "cell_type": "code",
      "metadata": {
        "id": "bH-9NsuOwKJv"
      },
      "source": [
        "# Sample for a thousand\n",
        "sample_300 = [i for i in range(1,501)]"
      ],
      "execution_count": 704,
      "outputs": []
    },
    {
      "cell_type": "markdown",
      "metadata": {
        "id": "Od4pqy2E0HuA"
      },
      "source": [
        "## 22 - repeat 18 to 21 by replacing 50 with a larger number. For example, 300, or even 1000."
      ]
    },
    {
      "cell_type": "code",
      "metadata": {
        "id": "tD8z_VyB6oKW",
        "outputId": "b3216112-140e-441f-a892-12ecb44f0a11",
        "colab": {
          "base_uri": "https://localhost:8080/"
        }
      },
      "source": [
        "# and see how the plot looks.\n",
        "means_diff_2 = []\n",
        "\n",
        "for i in sample_300:\n",
        "    means_diff_2.append(sample_obs(i, clean_df2))\n",
        "\n",
        "print(means_diff_2)"
      ],
      "execution_count": 705,
      "outputs": [
        {
          "output_type": "stream",
          "text": [
            "[1360, 8686, 5162, 1043, -5632, -2106, 687, 1160, 712, 2417, 538, -881, 1866, 957, -3578, -3316, 2052, -1066, 1409, -2125, 1201, -1072, -1751, 49, 1728, -1711, -3417, -835, 1343, 3386, -1934, 1695, -1696, 1032, 226, -2947, 736, 375, -2442, 161, -1423, 744, -110, -444, 603, -1171, 1216, -414, 721, 219, -628, 2194, -147, 600, 545, -51, -1005, -100, 624, 2592, -3228, -2502, 276, 708, -378, 1509, 894, -461, -115, -558, -426, -1393, -225, 923, 1177, -550, -1456, 354, -867, -846, -209, 373, 2441, 23, -221, 794, 688, -282, -975, 504, 622, 832, -1040, -329, -1914, 390, 1505, 71, -1000, 1851, 1276, -2896, 1630, -14, -2218, 79, 394, 119, 368, -258, 409, -153, -1258, -2626, 738, -1042, 461, 617, 650, -612, -613, 99, 673, 968, 1765, 1087, -498, -888, -344, -224, 61, 21, -176, 1709, -806, 172, -286, 1142, -870, -555, -733, -783, 867, -416, -132, -385, -1024, -307, 516, 2225, -671, 552, 1558, -1105, 35, -936, 483, 358, 125, -405, -1207, 732, -580, 45, -513, -944, -1404, -412, 666, 988, 489, -615, -1004, -1385, -1249, 583, -1334, 1317, 682, 117, 41, -125, 840, -183, -447, 116, -504, 51, -659, 407, -1289, 962, 691, -1031, -969, -1195, -829, -735, 218, 310, 868, -238, 27, 634, 726, 62, 338, 172, 182, 219, 934, 507, 481, 266, -708, -423, -244, 1254, -198, -917, -478, -1518, -399, 1071, 212, -598, 508, -567, -135, 956, 715, -1080, 200, -630, -224, -19, 541, 768, 379, -1172, -245, -23, 183, -250, 657, -314, -433, -805, -312, -656, 985, 546, -316, -1236, -1019, 387, 10, -897, -438, 460, 896, -974, 449, 1375, -625, 536, 110, 14, -390, 834, 474, 946, -543, -413, -13, 477, 478, -391, -1151, -333, -520, 526, 346, -104, -76, -124, -67, 766, -478, 338, -20, -392, -151, 580, -604, 617, 1201, 139, 183, 1061, 341, -199, 373, -452, -271, -845, -512, -213, -39, -467, -730, 615, 337, -267, 130, -398, -22, 134, -865, -487, -1067, 16, -25, -130, 62, 414, -444, 541, 375, 746, -75, -323, 287, 215, 679, 634, 117, -764, 608, -149, 284, -667, 493, 675, -625, -77, 176, -222, -921, 294, -669, 517, -73, 130, 21, -17, 311, -374, 0, 45, -637, 556, -127, -845, -699, -305, 40, -440, 462, 672, -79, 14, -184, 581, 518, -60, -571, -413, -169, 513, 337, 623, -225, -554, 288, -519, -341, 523, 280, -73, -760, 92, -238, 1069, 638, 118, -309, 535, -44, -157, 308, -98, 886, -230, -120, -676, -19, -436, -392, -575, 317, -288, -512, -380, 288, 140, 52, -269, -511, -238, 222, -49, -415, 497, -814, 361, 661, -230, 227, 299, -188, -470, 843, -246, -754, -553, -843, 100, -111, 336, -518, 466, 228, 727, -791, 331, 567, -275, 17, 258, -174, -319, 380, -168, 82, 1069, 170, 136, -249, 365, -43, -144, 375, 283, 530, -96, -502, -381, 37, -948, -88, 511, -218, 402, 775, -296, -144, -134, 314, -456, 68, -383, 27, -139, 195, 678, -42, -295, 332, -143, 507, 307, -898, -606, 291, -300, 92, -185, -141, -172]\n"
          ],
          "name": "stdout"
        }
      ]
    },
    {
      "cell_type": "code",
      "metadata": {
        "id": "MLBcyboQv2U7",
        "outputId": "e96128d8-810a-474a-d8a0-f82775c7a842",
        "colab": {
          "base_uri": "https://localhost:8080/",
          "height": 644
        }
      },
      "source": [
        "#Plot the graph\n",
        "plt.figure(figsize=(20,10))\n",
        "plt.title(f\"Sample Size Vs. Sample Difference, for {len(means_diff_2)} samples\", size= 16)\n",
        "plt.xlabel(\"Number of Samples\", size = 14)\n",
        "plt.ylabel(\"Sample Difference\", size = 14)\n",
        "plt.plot(means_diff_2, color = \"green\")"
      ],
      "execution_count": 706,
      "outputs": [
        {
          "output_type": "execute_result",
          "data": {
            "text/plain": [
              "[<matplotlib.lines.Line2D at 0x7fcbe51c0f60>]"
            ]
          },
          "metadata": {
            "tags": []
          },
          "execution_count": 706
        },
        {
          "output_type": "display_data",
          "data": {
            "image/png": "[encoded data removed]",
            "text/plain": [
              "<Figure size 1440x720 with 1 Axes>"
            ]
          },
          "metadata": {
            "tags": [],
            "needs_background": "light"
          }
        }
      ]
    },
    {
      "cell_type": "code",
      "metadata": {
        "id": "MjqbewGC6oKZ"
      },
      "source": [
        "# The end - Give yourself a pat on the back!"
      ],
      "execution_count": 707,
      "outputs": []
    }
  ]
}