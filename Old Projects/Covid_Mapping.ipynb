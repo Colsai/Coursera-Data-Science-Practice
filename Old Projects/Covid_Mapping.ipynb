{
  "nbformat": 4,
  "nbformat_minor": 0,
  "metadata": {
    "colab": {
      "name": "Covid Mapping.ipynb",
      "provenance": [],
      "collapsed_sections": [],
      "authorship_tag": "ABX9TyNnqocWoRVwbDLSkQfX82B1",
      "include_colab_link": true
    },
    "kernelspec": {
      "name": "python3",
      "display_name": "Python 3"
    }
  },
  "cells": [
    {
      "cell_type": "markdown",
      "metadata": {
        "id": "view-in-github",
        "colab_type": "text"
      },
      "source": [
        "<a href=\"https://colab.research.google.com/github/Colsai/Coursera-Data-Science-Practice/blob/master/Old%20Projects/Covid_Mapping.ipynb\" target=\"_parent\"><img src=\"https://colab.research.google.com/assets/colab-badge.svg\" alt=\"Open In Colab\"/></a>"
      ]
    },
    {
      "cell_type": "code",
      "metadata": {
        "id": "ri7oQl9jUU1S"
      },
      "source": [
        "#Data taken from NYT Github\n",
        "\n",
        "#Datetime for Time Series\n",
        "import datetime\n",
        "\n",
        "#Import Packages for Data\n",
        "import pandas as pd\n",
        "import numpy as np\n",
        "import scipy as sci\n",
        "import seaborn as sns\n",
        "sns.set(style=\"ticks\")\n",
        "\n",
        "#Load Matplotlib for Plotting\n",
        "%matplotlib inline\n",
        "import matplotlib as mpl\n",
        "import matplotlib.pyplot as plt\n",
        "\n",
        "from scipy.stats import spearmanr\n",
        "\n",
        "#Import Plotly\n",
        "import plotly\n",
        "import plotly.graph_objs as go\n",
        "plt.style.use('seaborn-white')\n"
      ],
      "execution_count": 3,
      "outputs": []
    },
    {
      "cell_type": "code",
      "metadata": {
        "id": "Q5wwd83wVZ4m"
      },
      "source": [
        "#Cases by day from beginning (US)\n",
        "usa_url = 'https://raw.githubusercontent.com/nytimes/covid-19-data/master/us.csv'\n",
        "us_df = pd.read_csv(usa_url,index_col=0,parse_dates=[0])\n",
        "\n",
        "counties_url = 'https://raw.githubusercontent.com/nytimes/covid-19-data/master/us-counties.csv'\n",
        "counties_df = pd.read_csv(counties_url,index_col=0,parse_dates=[0])\n",
        "\n",
        "states_url = 'https://raw.githubusercontent.com/nytimes/covid-19-data/master/us-states.csv'\n",
        "states_df = pd.read_csv(states_url, index_col=0,parse_dates=[0])"
      ],
      "execution_count": 4,
      "outputs": []
    },
    {
      "cell_type": "code",
      "metadata": {
        "id": "9jSp9NsycK9p",
        "outputId": "0da2360e-208b-4367-ad94-78030b565c47",
        "colab": {
          "base_uri": "https://localhost:8080/",
          "height": 67
        }
      },
      "source": [
        "us_df.head()\n",
        "us_df.dtypes"
      ],
      "execution_count": 5,
      "outputs": [
        {
          "output_type": "execute_result",
          "data": {
            "text/plain": [
              "cases     int64\n",
              "deaths    int64\n",
              "dtype: object"
            ]
          },
          "metadata": {
            "tags": []
          },
          "execution_count": 5
        }
      ]
    },
    {
      "cell_type": "code",
      "metadata": {
        "id": "r7LBVRvGXoOh"
      },
      "source": [
        "from sklearn import preprocessing\n",
        "\n",
        "cov_cases = us_df['cases']\n",
        "cov_deaths = us_df['deaths']\n",
        "\n",
        "cases_nom = preprocessing.scale(cov_cases)\n",
        "cdeaths_nom = preprocessing.scale(cov_deaths)"
      ],
      "execution_count": 6,
      "outputs": []
    },
    {
      "cell_type": "code",
      "metadata": {
        "id": "uwbyRXurBqpu",
        "outputId": "bd02c488-c11b-486b-bda9-2b741364e258",
        "colab": {
          "base_uri": "https://localhost:8080/",
          "height": 1000
        }
      },
      "source": [
        "cases_nom"
      ],
      "execution_count": 7,
      "outputs": [
        {
          "output_type": "execute_result",
          "data": {
            "text/plain": [
              "array([-1.03733246e+00, -1.03733246e+00, -1.03733246e+00, -1.03733207e+00,\n",
              "       -1.03733168e+00, -1.03733090e+00, -1.03733090e+00, -1.03733090e+00,\n",
              "       -1.03733090e+00, -1.03733051e+00, -1.03733011e+00, -1.03732972e+00,\n",
              "       -1.03732855e+00, -1.03732855e+00, -1.03732855e+00, -1.03732816e+00,\n",
              "       -1.03732816e+00, -1.03732816e+00, -1.03732816e+00, -1.03732816e+00,\n",
              "       -1.03732777e+00, -1.03732777e+00, -1.03732738e+00, -1.03732699e+00,\n",
              "       -1.03732699e+00, -1.03732699e+00, -1.03732699e+00, -1.03732308e+00,\n",
              "       -1.03732308e+00, -1.03732308e+00, -1.03732229e+00, -1.03732112e+00,\n",
              "       -1.03732112e+00, -1.03732112e+00, -1.03731604e+00, -1.03731526e+00,\n",
              "       -1.03730939e+00, -1.03730939e+00, -1.03730744e+00, -1.03730548e+00,\n",
              "       -1.03729844e+00, -1.03729219e+00, -1.03728397e+00, -1.03726990e+00,\n",
              "       -1.03724370e+00, -1.03721125e+00, -1.03716550e+00, -1.03711897e+00,\n",
              "       -1.03704037e+00, -1.03693480e+00, -1.03683900e+00, -1.03668064e+00,\n",
              "       -1.03646323e+00, -1.03619969e+00, -1.03592520e+00, -1.03557055e+00,\n",
              "       -1.03502351e+00, -1.03406787e+00, -1.03248700e+00, -1.03028988e+00,\n",
              "       -1.02774203e+00, -1.02440080e+00, -1.02032173e+00, -1.01624227e+00,\n",
              "       -1.01052015e+00, -1.00387367e+00, -9.97097377e-01, -9.88860249e-01,\n",
              "       -9.81618645e-01, -9.73223938e-01, -9.63641717e-01, -9.53111675e-01,\n",
              "       -9.41491873e-01, -9.28855041e-01, -9.15130795e-01, -9.05114547e-01,\n",
              "       -8.93025918e-01, -8.81163687e-01, -8.68721580e-01, -8.55153740e-01,\n",
              "       -8.42065285e-01, -8.29662280e-01, -8.19048952e-01, -8.08972879e-01,\n",
              "       -7.98536289e-01, -7.86792927e-01, -7.74431760e-01, -7.62111259e-01,\n",
              "       -7.51007207e-01, -7.41101225e-01, -7.30389361e-01, -7.20412997e-01,\n",
              "       -7.09139634e-01, -6.95932702e-01, -6.81566409e-01, -6.68112354e-01,\n",
              "       -6.57658560e-01, -6.48588178e-01, -6.38949260e-01, -6.28565849e-01,\n",
              "       -6.16695798e-01, -6.03413008e-01, -5.91888223e-01, -5.81667083e-01,\n",
              "       -5.73079605e-01, -5.63809023e-01, -5.54227584e-01, -5.43092251e-01,\n",
              "       -5.32281460e-01, -5.22557691e-01, -5.14613433e-01, -5.07723353e-01,\n",
              "       -4.99003712e-01, -4.90735693e-01, -4.80193530e-01, -4.69934461e-01,\n",
              "       -4.60683821e-01, -4.53249448e-01, -4.44715930e-01, -4.36516730e-01,\n",
              "       -4.27497571e-01, -4.17435965e-01, -4.08131756e-01, -3.99424237e-01,\n",
              "       -3.91591809e-01, -3.84123417e-01, -3.76735965e-01, -3.69407556e-01,\n",
              "       -3.60605802e-01, -3.51007158e-01, -3.41858573e-01, -3.33790364e-01,\n",
              "       -3.25228693e-01, -3.17101049e-01, -3.09286217e-01, -3.00834421e-01,\n",
              "       -2.89609545e-01, -2.80807791e-01, -2.73529041e-01, -2.66410607e-01,\n",
              "       -2.59057565e-01, -2.50122865e-01, -2.41050919e-01, -2.31083157e-01,\n",
              "       -2.21177176e-01, -2.13697053e-01, -2.05830998e-01, -1.96101364e-01,\n",
              "       -1.86070649e-01, -1.75099151e-01, -1.63042194e-01, -1.50519929e-01,\n",
              "       -1.40205336e-01, -1.28293055e-01, -1.14584450e-01, -1.00124704e-01,\n",
              "       -8.40254313e-02, -6.62232868e-02, -4.96837307e-02, -3.42362803e-02,\n",
              "       -1.87935221e-02,  1.25753156e-04,  1.96667427e-02,  4.13903797e-02,\n",
              "        6.37380770e-02,  8.32907971e-02,  1.00793815e-01,  1.19294704e-01,\n",
              "        1.40438074e-01,  1.63684716e-01,  1.87101058e-01,  2.13777685e-01,\n",
              "        2.37518570e-01,  2.60121210e-01,  2.84194849e-01,  3.09844279e-01,\n",
              "        3.36564701e-01,  3.66157520e-01,  3.93889107e-01,  4.18307231e-01,\n",
              "        4.42657709e-01,  4.66074833e-01,  4.91594837e-01,  5.18863071e-01,\n",
              "        5.46235706e-01,  5.74984324e-01,  6.01094762e-01,  6.22294438e-01,\n",
              "        6.45435114e-01,  6.70112090e-01,  6.96159574e-01,  7.23183032e-01,\n",
              "        7.50197497e-01,  7.72414596e-01,  7.92275436e-01,  8.10841624e-01,\n",
              "        8.31779320e-01,  8.52783489e-01,  8.75342335e-01,  8.99255657e-01,\n",
              "        9.20855343e-01,  9.39811764e-01,  9.58257129e-01,  9.79120532e-01,\n",
              "        1.00034406e+00,  1.02148274e+00,  1.04473916e+00,  1.06458044e+00,\n",
              "        1.08105666e+00,  1.09572872e+00,  1.11263349e+00,  1.12945223e+00,\n",
              "        1.14745027e+00,  1.16662136e+00,  1.18422722e+00,  1.19686991e+00,\n",
              "        1.21266850e+00,  1.22798965e+00,  1.24571007e+00,  1.26354428e+00,\n",
              "        1.28175151e+00,  1.29919471e+00,  1.31226635e+00,  1.32653254e+00,\n",
              "        1.34375637e+00,  1.35644248e+00,  1.37458324e+00,  1.39495670e+00,\n",
              "        1.41147866e+00,  1.42320873e+00,  1.43304902e+00,  1.44436539e+00,\n",
              "        1.45739872e+00,  1.47228076e+00,  1.49088057e+00,  1.50617084e+00,\n",
              "        1.51920846e+00,  1.53363184e+00,  1.54896629e+00,  1.56432068e+00,\n",
              "        1.58203758e+00,  1.60115314e+00,  1.61750188e+00,  1.63171764e+00,\n",
              "        1.65320393e+00,  1.66782438e+00,  1.68407146e+00,  1.70174613e+00,\n",
              "        1.72308305e+00,  1.73977823e+00,  1.75436232e+00,  1.76897222e+00,\n",
              "        1.78605841e+00,  1.80249200e+00,  1.82064215e+00,  1.84152393e+00,\n",
              "        1.86020625e+00,  1.87391017e+00,  1.89021238e+00,  1.90697286e+00,\n",
              "        1.92768806e+00,  1.94973155e+00,  1.97278230e+00,  1.99295321e+00,\n",
              "        2.01045740e+00,  2.02841556e+00,  2.04973059e+00])"
            ]
          },
          "metadata": {
            "tags": []
          },
          "execution_count": 7
        }
      ]
    },
    {
      "cell_type": "code",
      "metadata": {
        "id": "G25gxLGEBSMx",
        "outputId": "fc2e3d9f-ba4b-41b3-9501-a61ab64d5db3",
        "colab": {
          "base_uri": "https://localhost:8080/",
          "height": 235
        }
      },
      "source": [
        "cov_cases"
      ],
      "execution_count": 8,
      "outputs": [
        {
          "output_type": "execute_result",
          "data": {
            "text/plain": [
              "date\n",
              "2020-01-21          1\n",
              "2020-01-22          1\n",
              "2020-01-23          1\n",
              "2020-01-24          2\n",
              "2020-01-25          3\n",
              "               ...   \n",
              "2020-10-09    7698203\n",
              "2020-10-10    7749789\n",
              "2020-10-11    7794555\n",
              "2020-10-12    7840482\n",
              "2020-10-13    7894994\n",
              "Name: cases, Length: 267, dtype: int64"
            ]
          },
          "metadata": {
            "tags": []
          },
          "execution_count": 8
        }
      ]
    },
    {
      "cell_type": "code",
      "metadata": {
        "id": "xibUV9j9Uw41",
        "outputId": "e8f0ce1f-e1fa-45fa-d90f-165ac8f2ad0a",
        "colab": {
          "base_uri": "https://localhost:8080/",
          "height": 252
        }
      },
      "source": [
        "#Quick Estimator:\n",
        "\n",
        "#Ask the user how many days back that they want to look. CANNOT DO 0!\n",
        "i=int(input((\"Calculate Rolling Average i/+7/+30 Avg/# of days? \")))\n",
        "m=int(input(\"What is the likely R:C case multplier (est. 5:40)\"))\n",
        "\n",
        "#True Case Multiplier. This can be changed with whatever the true number is\n",
        "\n",
        "#-1 to i cases in last i days/deaths\n",
        "ra_cases = round((us_df['cases'][-1]-us_df['cases'][-i])/(i-1),1)\n",
        "ra_deaths = round((us_df['deaths'][-1]-us_df['deaths'][-i])/(i-1),1)\n",
        "ra_asdeathrate = round((ra_deaths/ra_cases)*100,3)\n",
        "ra_astruedr = round((ra_deaths/(ra_cases*m))*100,3)\n",
        "\n",
        "#i to -i-7 (one week after) cases/deaths\n",
        "ra_wk_cases = round((us_df['cases'][-i]-us_df['cases'][-i-7])/7,1)\n",
        "ra_wk_deaths = round((us_df['deaths'][-i]-us_df['deaths'][-i-7])/7,1)\n",
        "ra_wk_asdeathrate = round((ra_wk_deaths/ra_wk_cases)*100,3)\n",
        "ra_wk_astruedr = round((ra_wk_deaths/(ra_wk_cases*m))*100,3)\n",
        "\n",
        "#-i to -i-30 (one month before) cases/deaths\n",
        "ra_mo_cases = round((us_df['cases'][-i]-us_df['cases'][-i-30])/30,1)\n",
        "ra_mo_deaths = round((us_df['deaths'][-i]-us_df['deaths'][-i-30])/30,1)\n",
        "ra_mo_asdeathrate = round((ra_mo_deaths/ra_mo_cases)*100,3)\n",
        "ra_mo_astruedr = round((ra_mo_deaths/(ra_mo_cases*m))*100,3)\n",
        "\n",
        "#Displaying information about the cases\n",
        "print(f\"\\nCovid Confirmed/Deaths/Estimated from the past {i} days...\")\n",
        "print(f\"{abs(i)} Day Average Cases = {ra_cases} and {ra_cases*m} crude real cases/ Average Deaths = {ra_deaths} over the last {i} days/\")\n",
        "print(f\"About {ra_asdeathrate}% Confirmed Death Rate, possibly {ra_astruedr}% Death Rate, at {m}x R:C.\")\n",
        "\n",
        "print(f\"\\n{i} + 7 = {abs(-i-7)} Day Average Cases = {ra_wk_cases} and {ra_wk_cases*m} crude real cases / Average Deaths = {ra_wk_deaths} over the last {i} days/\")\n",
        "print(f\"About {ra_wk_asdeathrate}% Confirmed Death Rate, possibly {ra_wk_astruedr}% Death Rate, at {m}x R:C.\")\n",
        "\n",
        "print(f\"\\n{i} + 30 = {abs(-i-30)} Day Average Cases = {ra_mo_cases} and {ra_mo_cases*m} crude real cases / Average Deaths = {ra_mo_deaths} over the last {i} days/\")\n",
        "print(f\"About {ra_mo_asdeathrate}% Confirmed Death Rate, possibly {ra_mo_astruedr}% Death Rate, at {m}x R:C.\")\n",
        "\n",
        "print(f\"\\nThat's {round(ra_astruedr/.1,3)} times or {round(ra_wk_astruedr/.1,3)} times or {round(ra_mo_astruedr/.1,3)} times more deadly than the flu (at .1% mortality/10 year est)\")"
      ],
      "execution_count": 9,
      "outputs": [
        {
          "output_type": "stream",
          "text": [
            "Calculate Rolling Average i/+7/+30 Avg/# of days? 5\n",
            "What is the likely R:C case multplier (est. 5:40)5\n",
            "\n",
            "Covid Confirmed/Deaths/Estimated from the past 5 days...\n",
            "5 Day Average Cases = 49197.8 and 245989.0 crude real cases/ Average Deaths = 547.0 over the last 5 days/\n",
            "About 1.112% Confirmed Death Rate, possibly 0.222% Death Rate, at 5x R:C.\n",
            "\n",
            "5 + 7 = 12 Day Average Cases = 47955.1 and 239775.5 crude real cases / Average Deaths = 718.4 over the last 5 days/\n",
            "About 1.498% Confirmed Death Rate, possibly 0.3% Death Rate, at 5x R:C.\n",
            "\n",
            "5 + 30 = 35 Day Average Cases = 43935.5 and 219677.5 crude real cases / Average Deaths = 762.6 over the last 5 days/\n",
            "About 1.736% Confirmed Death Rate, possibly 0.347% Death Rate, at 5x R:C.\n",
            "\n",
            "That's 2.22 times or 3.0 times or 3.47 times more deadly than the flu (at .1% mortality/10 year est)\n"
          ],
          "name": "stdout"
        }
      ]
    },
    {
      "cell_type": "code",
      "metadata": {
        "id": "KEiDdYTMUpQF",
        "outputId": "715e9df0-67cb-41db-ec87-d79ede702383",
        "colab": {
          "base_uri": "https://localhost:8080/",
          "height": 662
        }
      },
      "source": [
        "712542#Sets the Plot\n",
        "ax = us_df.plot(kind = \"line\", figsize=(20,10))\n",
        "\n",
        "#Graphics Stuff\n",
        "ax.set_xlabel(\"Date\", labelpad=15, fontsize=14, color=\"#333533\");\n",
        "ax.set_ylabel(\"Cases/Deaths (per 100k)\", labelpad=15, fontsize=14, color=\"#333533\");\n",
        "ax.set_title(\"USA Covid Deaths By Date\", fontsize = 14)\n",
        "\n",
        "#Invisible Spines\n",
        "ax.spines[\"top\"].set_visible(False)     \n",
        "ax.spines[\"right\"].set_visible(False)       \n",
        "\n",
        "#Modifies the Datetime to look at specific times\n",
        "plt.xlim([datetime.date(2020, 1, 1), datetime.date(2020, 10, 1)])\n",
        "plt.ylim(0, 3e6)       "
      ],
      "execution_count": 10,
      "outputs": [
        {
          "output_type": "execute_result",
          "data": {
            "text/plain": [
              "(0.0, 3000000.0)"
            ]
          },
          "metadata": {
            "tags": []
          },
          "execution_count": 10
        },
        {
          "output_type": "display_data",
          "data": {
            "image/png": "[encoded data removed]",
            "text/plain": [
              "<Figure size 1440x720 with 1 Axes>"
            ]
          },
          "metadata": {
            "tags": []
          }
        }
      ]
    },
    {
      "cell_type": "code",
      "metadata": {
        "id": "eIV-2t1wZC6L",
        "outputId": "34852088-b6a3-432b-ea92-bcdc035dbcad",
        "colab": {
          "base_uri": "https://localhost:8080/",
          "height": 309
        }
      },
      "source": [
        "#Have cases meant more deaths?\n",
        "ax = sns.regplot(x='cases', y='deaths',data=us_df, fit_reg=True) \n",
        "ax.set_title(\"Covid Cases to deaths\")"
      ],
      "execution_count": 11,
      "outputs": [
        {
          "output_type": "execute_result",
          "data": {
            "text/plain": [
              "Text(0.5, 1.0, 'Covid Cases to deaths')"
            ]
          },
          "metadata": {
            "tags": []
          },
          "execution_count": 11
        },
        {
          "output_type": "display_data",
          "data": {
            "image/png": "[encoded data removed]",
            "text/plain": [
              "<Figure size 432x288 with 1 Axes>"
            ]
          },
          "metadata": {
            "tags": []
          }
        }
      ]
    },
    {
      "cell_type": "code",
      "metadata": {
        "id": "_tEVk5IAUscd",
        "outputId": "3cca1d57-5f58-4ce2-be7b-5a75e97880e1",
        "colab": {
          "base_uri": "https://localhost:8080/",
          "height": 326
        }
      },
      "source": [
        "from matplotlib import pyplot\n",
        "from pandas.plotting import lag_plot\n",
        "lag_plot(us_df)\n",
        "pyplot.show()"
      ],
      "execution_count": 12,
      "outputs": [
        {
          "output_type": "stream",
          "text": [
            "*c* argument looks like a single numeric RGB or RGBA sequence, which should be avoided as value-mapping will have precedence in case its length matches with *x* & *y*.  Please use the *color* keyword-argument or provide a 2-D array with a single row if you intend to specify the same RGB or RGBA value for all points.\n"
          ],
          "name": "stderr"
        },
        {
          "output_type": "display_data",
          "data": {
            "image/png": "[encoded data removed]",
            "text/plain": [
              "<Figure size 432x288 with 1 Axes>"
            ]
          },
          "metadata": {
            "tags": []
          }
        }
      ]
    },
    {
      "cell_type": "code",
      "metadata": {
        "id": "pSjgFj1eXotV"
      },
      "source": [
        "#counties_df.head()\n",
        "\n",
        "counties = counties_df[['state','cases']]\n",
        "ax = counties.plot(kind='bar',x='state', y='cases')"
      ],
      "execution_count": null,
      "outputs": []
    },
    {
      "cell_type": "code",
      "metadata": {
        "id": "zDgYh4uIRSVH"
      },
      "source": [
        "counties_df.dtypes"
      ],
      "execution_count": null,
      "outputs": []
    },
    {
      "cell_type": "code",
      "metadata": {
        "id": "u9OAGmVaSJLN"
      },
      "source": [
        ""
      ],
      "execution_count": null,
      "outputs": []
    },
    {
      "cell_type": "code",
      "metadata": {
        "id": "T8LYRRGUPtJh"
      },
      "source": [
        "#\n",
        "grouped_counties = counties_df.groupby(by='state')\n",
        "\n",
        "grouped_counties.plot(kind='hist',x='state',y='deaths')"
      ],
      "execution_count": null,
      "outputs": []
    },
    {
      "cell_type": "code",
      "metadata": {
        "id": "gO9cIS_sYEbW"
      },
      "source": [
        "us_deaths= us_df['deaths']\n",
        "count\n",
        "num_back = i\n",
        "\n",
        "while num_back\n",
        "    us_deaths[-1] \n",
        "    num_back += 1\n",
        "      if num_back >=:\n",
        "    "
      ],
      "execution_count": null,
      "outputs": []
    },
    {
      "cell_type": "code",
      "metadata": {
        "id": "Z7RE1M-ZaWtw"
      },
      "source": [
        "i=-1\n",
        "\n",
        "while -i > 10:\n",
        "    print(us_deaths[i])\n",
        "i -= 1"
      ],
      "execution_count": null,
      "outputs": []
    },
    {
      "cell_type": "code",
      "metadata": {
        "id": "NslwmO7VdwwD"
      },
      "source": [
        "counties_df['county']"
      ],
      "execution_count": null,
      "outputs": []
    }
  ]
}