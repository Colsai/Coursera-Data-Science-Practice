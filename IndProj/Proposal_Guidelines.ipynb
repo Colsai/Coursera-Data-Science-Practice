{
  "nbformat": 4,
  "nbformat_minor": 0,
  "metadata": {
    "colab": {
      "name": "Proposal Guidelines",
      "provenance": [],
      "collapsed_sections": [],
      "authorship_tag": "ABX9TyMhH/jCljTTAyoXSxPOFjqz",
      "include_colab_link": true
    },
    "kernelspec": {
      "name": "python3",
      "display_name": "Python 3"
    }
  },
  "cells": [
    {
      "cell_type": "markdown",
      "metadata": {
        "id": "view-in-github",
        "colab_type": "text"
      },
      "source": [
        "<a href=\"https://colab.research.google.com/github/Colsai/Coursera-Data-Science-Practice/blob/master/IndProj/Proposal_Guidelines.ipynb\" target=\"_parent\"><img src=\"https://colab.research.google.com/assets/colab-badge.svg\" alt=\"Open In Colab\"/></a>"
      ]
    },
    {
      "cell_type": "markdown",
      "metadata": {
        "id": "f0R4TUMhbtCV",
        "colab_type": "text"
      },
      "source": [
        "# Individual Project\n",
        "\n",
        "Find an issue that you are passionate about or are interested in as the topic for this exploratory data analysis project.\n",
        "\n",
        "Make sure there are publicly available data about this issue to perform exploratory analysis.\n",
        "\n",
        "The analysis should include descriptive statistics, data visualization, and optionally statistical inference.\n",
        "\n",
        "## Deliverable #1 - Project Proposal in Markdown format\n",
        "\n",
        "Write and submit a research proposal in the **Markdown** format that answers the following questions:\n",
        "\n",
        "1. What is your issue of interest (provide sufficient background information)?\n",
        "2. Why is this issue important to you and/or to others?\n",
        "3. What questions do you have in mind and wouyld like to answer?\n",
        "4. Where do you get the data to help answer your questions? \n",
        "5. What will be your unit of analysis (for example, patient, organization, or country)? Roughly how many units do you expect to analyze?\n",
        "6. What variables/measures do you plan to use in your analysis?\n",
        "7. What kinds of techniques do you you plan to use (for example, summary statistics, scatter plot, bar chart, chi-squared test)? \n",
        "\n",
        "I will review your proposal and provide feedback before you start the actual work."
      ]
    },
    {
      "cell_type": "markdown",
      "metadata": {
        "id": "qcBNcPekbtIe",
        "colab_type": "text"
      },
      "source": [
        "\n",
        "\n",
        "## Deliverable #2 - Interim Work in Jupyter Notebook\n",
        "\n",
        "The interim deliverable allows the instructor to review your preliminary work and provide feedback. \n",
        "\n",
        "You will perform the loading, examination, and processing of the data using Pandas.\n",
        "\n",
        "You will perform descriptive analytics. Display number of observations (rows), variables (columns),  summary statistics.\n",
        "\n",
        "You may produce some simple plots. This will help you get a feel of your data and inform your next step of analysis.\n",
        "\n",
        "You should submit a Jupyter Notebook with well-formatted documentation (in MArkdown cells) and Python comments (in code cells), Python code, and output (plots, charts).\n",
        "\n",
        "The project proposal will no longer be needed. All of part of its content should be incorporated in the Jupyter notebook.\n",
        "\n",
        "Special instructions:\n",
        "\n",
        "1. Please format the Jupyter Notebook file neatly and nicely for readability. Treat it as a research paper and a project in your portfolio.\n",
        "2. The file must be self-explanatory and can stand alone so the readers understand the project without having to read other documents or ask you for clarification.\n",
        "3. Use markdown cell for large block of texts such as background, data sources, list of elements and their meanings. \n",
        "4. In a code cell, use comments above a line of code or to the right of a line of code to annotate/comment the code only necessary.\n",
        "5. Limit the length of outputs. For example, don't output more data than necessary. Use head/tail/sample on dataframe to limit the number of rows displayed (5 or 10 is good); \n",
        "\n",
        "\n"
      ]
    },
    {
      "cell_type": "markdown",
      "metadata": {
        "id": "WI-0R5ErbtQF",
        "colab_type": "text"
      },
      "source": [
        "6. Structure your notebook with headings including sequence numbers and section titles similar to a paper. Also use bold, italic, bulletted list, etc.\n",
        "7. Don't do complicated techniques or too many techniques, keep it simple and focus on the clarity of concepts and the style of communications. \n",
        "8. This is a proof-of-concept deliverable which helps you practice data science. You are graded both on the substance and the style. \n",
        "9. On the substance: focus on data preparation and data visualization (make sure the plots are large enough). Statistical inference is optional.  \n",
        "10. Don't boil the ocean. The issue you are looking into may be large, but you will only focus on one aspect of it and not try to solve the big problem. A couple of research questions would suffice. Don't try to answer too many questions.\n",
        "\n",
        "## Deliberable #3 - Final Jupyter Notebook\n",
        "You will have a separate GitHub repository to host your final project including the Jupyter notebook, data, original propopsal. \n",
        "You will be proud to show this to your friends, colleagues, managers, recruiters, hiring managers, or any stakeholders. "
      ]
    }
  ]
}